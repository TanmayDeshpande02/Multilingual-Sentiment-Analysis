{
 "cells": [
  {
   "cell_type": "code",
   "execution_count": 1,
   "id": "d46acac3",
   "metadata": {
    "_cell_guid": "b1076dfc-b9ad-4769-8c92-a6c4dae69d19",
    "_uuid": "8f2839f25d086af736a60e9eeb907d3b93b6e0e5",
    "execution": {
     "iopub.execute_input": "2023-08-04T11:44:51.609658Z",
     "iopub.status.busy": "2023-08-04T11:44:51.609170Z",
     "iopub.status.idle": "2023-08-04T11:44:51.627910Z",
     "shell.execute_reply": "2023-08-04T11:44:51.626785Z"
    },
    "papermill": {
     "duration": 0.0383,
     "end_time": "2023-08-04T11:44:51.630354",
     "exception": false,
     "start_time": "2023-08-04T11:44:51.592054",
     "status": "completed"
    },
    "tags": []
   },
   "outputs": [
    {
     "name": "stdout",
     "output_type": "stream",
     "text": [
      "/kaggle/input/imdb-dataset-sentiment-analysis-in-csv-format/Valid.csv\n",
      "/kaggle/input/imdb-dataset-sentiment-analysis-in-csv-format/Train.csv\n",
      "/kaggle/input/imdb-dataset-sentiment-analysis-in-csv-format/Test.csv\n"
     ]
    }
   ],
   "source": [
    "# This Python 3 environment comes with many helpful analytics libraries installed\n",
    "# It is defined by the kaggle/python Docker image: https://github.com/kaggle/docker-python\n",
    "# For example, here's several helpful packages to load\n",
    "\n",
    "import numpy as np # linear algebra\n",
    "import pandas as pd # data processing, CSV file I/O (e.g. pd.read_csv)\n",
    "\n",
    "# Input data files are available in the read-only \"../input/\" directory\n",
    "# For example, running this (by clicking run or pressing Shift+Enter) will list all files under the input directory\n",
    "\n",
    "import os\n",
    "for dirname, _, filenames in os.walk('/kaggle/input'):\n",
    "    for filename in filenames:\n",
    "        print(os.path.join(dirname, filename))\n",
    "\n",
    "# You can write up to 20GB to the current directory (/kaggle/working/) that gets preserved as output when you create a version using \"Save & Run All\" \n",
    "# You can also write temporary files to /kaggle/temp/, but they won't be saved outside of the current session"
   ]
  },
  {
   "cell_type": "code",
   "execution_count": 2,
   "id": "d6f5b556",
   "metadata": {
    "execution": {
     "iopub.execute_input": "2023-08-04T11:44:51.660497Z",
     "iopub.status.busy": "2023-08-04T11:44:51.659521Z",
     "iopub.status.idle": "2023-08-04T11:45:04.188275Z",
     "shell.execute_reply": "2023-08-04T11:45:04.186952Z"
    },
    "papermill": {
     "duration": 12.546888,
     "end_time": "2023-08-04T11:45:04.191350",
     "exception": false,
     "start_time": "2023-08-04T11:44:51.644462",
     "status": "completed"
    },
    "tags": []
   },
   "outputs": [
    {
     "name": "stdout",
     "output_type": "stream",
     "text": [
      "Requirement already satisfied: google-cloud-translate in /opt/conda/lib/python3.7/site-packages (3.8.4)\r\n",
      "Requirement already satisfied: protobuf!=3.20.0,!=3.20.1,!=4.21.0,!=4.21.1,!=4.21.2,!=4.21.3,!=4.21.4,!=4.21.5,<5.0.0dev,>=3.19.5 in /opt/conda/lib/python3.7/site-packages (from google-cloud-translate) (3.20.3)\r\n",
      "Requirement already satisfied: google-cloud-core<3.0.0dev,>=1.3.0 in /opt/conda/lib/python3.7/site-packages (from google-cloud-translate) (1.7.3)\r\n",
      "Requirement already satisfied: proto-plus<2.0.0dev,>=1.22.0 in /opt/conda/lib/python3.7/site-packages (from google-cloud-translate) (1.22.2)\r\n",
      "Requirement already satisfied: google-api-core[grpc]!=2.0.*,!=2.1.*,!=2.2.*,!=2.3.*,!=2.4.*,!=2.5.*,!=2.6.*,!=2.7.*,<3.0.0dev,>=1.32.0 in /opt/conda/lib/python3.7/site-packages (from google-cloud-translate) (1.34.0)\r\n",
      "Requirement already satisfied: googleapis-common-protos<2.0dev,>=1.56.2 in /opt/conda/lib/python3.7/site-packages (from google-api-core[grpc]!=2.0.*,!=2.1.*,!=2.2.*,!=2.3.*,!=2.4.*,!=2.5.*,!=2.6.*,!=2.7.*,<3.0.0dev,>=1.32.0->google-cloud-translate) (1.58.0)\r\n",
      "Requirement already satisfied: google-auth<3.0dev,>=1.25.0 in /opt/conda/lib/python3.7/site-packages (from google-api-core[grpc]!=2.0.*,!=2.1.*,!=2.2.*,!=2.3.*,!=2.4.*,!=2.5.*,!=2.6.*,!=2.7.*,<3.0.0dev,>=1.32.0->google-cloud-translate) (1.35.0)\r\n",
      "Requirement already satisfied: requests<3.0.0dev,>=2.18.0 in /opt/conda/lib/python3.7/site-packages (from google-api-core[grpc]!=2.0.*,!=2.1.*,!=2.2.*,!=2.3.*,!=2.4.*,!=2.5.*,!=2.6.*,!=2.7.*,<3.0.0dev,>=1.32.0->google-cloud-translate) (2.28.2)\r\n",
      "Requirement already satisfied: grpcio-status<2.0dev,>=1.33.2 in /opt/conda/lib/python3.7/site-packages (from google-api-core[grpc]!=2.0.*,!=2.1.*,!=2.2.*,!=2.3.*,!=2.4.*,!=2.5.*,!=2.6.*,!=2.7.*,<3.0.0dev,>=1.32.0->google-cloud-translate) (1.48.2)\r\n",
      "Requirement already satisfied: grpcio<2.0dev,>=1.33.2 in /opt/conda/lib/python3.7/site-packages (from google-api-core[grpc]!=2.0.*,!=2.1.*,!=2.2.*,!=2.3.*,!=2.4.*,!=2.5.*,!=2.6.*,!=2.7.*,<3.0.0dev,>=1.32.0->google-cloud-translate) (1.51.1)\r\n",
      "Requirement already satisfied: six>=1.12.0 in /opt/conda/lib/python3.7/site-packages (from google-cloud-core<3.0.0dev,>=1.3.0->google-cloud-translate) (1.16.0)\r\n",
      "Requirement already satisfied: pyasn1-modules>=0.2.1 in /opt/conda/lib/python3.7/site-packages (from google-auth<3.0dev,>=1.25.0->google-api-core[grpc]!=2.0.*,!=2.1.*,!=2.2.*,!=2.3.*,!=2.4.*,!=2.5.*,!=2.6.*,!=2.7.*,<3.0.0dev,>=1.32.0->google-cloud-translate) (0.2.8)\r\n",
      "Requirement already satisfied: setuptools>=40.3.0 in /opt/conda/lib/python3.7/site-packages (from google-auth<3.0dev,>=1.25.0->google-api-core[grpc]!=2.0.*,!=2.1.*,!=2.2.*,!=2.3.*,!=2.4.*,!=2.5.*,!=2.6.*,!=2.7.*,<3.0.0dev,>=1.32.0->google-cloud-translate) (59.8.0)\r\n",
      "Requirement already satisfied: cachetools<5.0,>=2.0.0 in /opt/conda/lib/python3.7/site-packages (from google-auth<3.0dev,>=1.25.0->google-api-core[grpc]!=2.0.*,!=2.1.*,!=2.2.*,!=2.3.*,!=2.4.*,!=2.5.*,!=2.6.*,!=2.7.*,<3.0.0dev,>=1.32.0->google-cloud-translate) (4.2.4)\r\n",
      "Requirement already satisfied: rsa<5,>=3.1.4 in /opt/conda/lib/python3.7/site-packages (from google-auth<3.0dev,>=1.25.0->google-api-core[grpc]!=2.0.*,!=2.1.*,!=2.2.*,!=2.3.*,!=2.4.*,!=2.5.*,!=2.6.*,!=2.7.*,<3.0.0dev,>=1.32.0->google-cloud-translate) (4.9)\r\n",
      "Requirement already satisfied: certifi>=2017.4.17 in /opt/conda/lib/python3.7/site-packages (from requests<3.0.0dev,>=2.18.0->google-api-core[grpc]!=2.0.*,!=2.1.*,!=2.2.*,!=2.3.*,!=2.4.*,!=2.5.*,!=2.6.*,!=2.7.*,<3.0.0dev,>=1.32.0->google-cloud-translate) (2022.12.7)\r\n",
      "Requirement already satisfied: urllib3<1.27,>=1.21.1 in /opt/conda/lib/python3.7/site-packages (from requests<3.0.0dev,>=2.18.0->google-api-core[grpc]!=2.0.*,!=2.1.*,!=2.2.*,!=2.3.*,!=2.4.*,!=2.5.*,!=2.6.*,!=2.7.*,<3.0.0dev,>=1.32.0->google-cloud-translate) (1.26.14)\r\n",
      "Requirement already satisfied: charset-normalizer<4,>=2 in /opt/conda/lib/python3.7/site-packages (from requests<3.0.0dev,>=2.18.0->google-api-core[grpc]!=2.0.*,!=2.1.*,!=2.2.*,!=2.3.*,!=2.4.*,!=2.5.*,!=2.6.*,!=2.7.*,<3.0.0dev,>=1.32.0->google-cloud-translate) (2.1.1)\r\n",
      "Requirement already satisfied: idna<4,>=2.5 in /opt/conda/lib/python3.7/site-packages (from requests<3.0.0dev,>=2.18.0->google-api-core[grpc]!=2.0.*,!=2.1.*,!=2.2.*,!=2.3.*,!=2.4.*,!=2.5.*,!=2.6.*,!=2.7.*,<3.0.0dev,>=1.32.0->google-cloud-translate) (3.4)\r\n",
      "Requirement already satisfied: pyasn1<0.5.0,>=0.4.6 in /opt/conda/lib/python3.7/site-packages (from pyasn1-modules>=0.2.1->google-auth<3.0dev,>=1.25.0->google-api-core[grpc]!=2.0.*,!=2.1.*,!=2.2.*,!=2.3.*,!=2.4.*,!=2.5.*,!=2.6.*,!=2.7.*,<3.0.0dev,>=1.32.0->google-cloud-translate) (0.4.8)\r\n",
      "\u001b[33mWARNING: Running pip as the 'root' user can result in broken permissions and conflicting behaviour with the system package manager. It is recommended to use a virtual environment instead: https://pip.pypa.io/warnings/venv\u001b[0m\u001b[33m\r\n",
      "\u001b[0m"
     ]
    }
   ],
   "source": [
    "!pip install google-cloud-translate"
   ]
  },
  {
   "cell_type": "code",
   "execution_count": 3,
   "id": "e1106d0e",
   "metadata": {
    "execution": {
     "iopub.execute_input": "2023-08-04T11:45:04.225674Z",
     "iopub.status.busy": "2023-08-04T11:45:04.224728Z",
     "iopub.status.idle": "2023-08-04T11:45:42.951477Z",
     "shell.execute_reply": "2023-08-04T11:45:42.950176Z"
    },
    "papermill": {
     "duration": 38.746845,
     "end_time": "2023-08-04T11:45:42.954357",
     "exception": false,
     "start_time": "2023-08-04T11:45:04.207512",
     "status": "completed"
    },
    "tags": []
   },
   "outputs": [
    {
     "name": "stdout",
     "output_type": "stream",
     "text": [
      "Requirement already satisfied: nltk in /opt/conda/lib/python3.7/site-packages (3.2.4)\r\n",
      "Requirement already satisfied: six in /opt/conda/lib/python3.7/site-packages (from nltk) (1.16.0)\r\n",
      "\u001b[33mWARNING: Running pip as the 'root' user can result in broken permissions and conflicting behaviour with the system package manager. It is recommended to use a virtual environment instead: https://pip.pypa.io/warnings/venv\u001b[0m\u001b[33m\r\n",
      "\u001b[0mRequirement already satisfied: numpy in /opt/conda/lib/python3.7/site-packages (1.21.6)\r\n",
      "Requirement already satisfied: requests in /opt/conda/lib/python3.7/site-packages (2.28.2)\r\n",
      "Collecting nlpaug\r\n",
      "  Downloading nlpaug-1.1.11-py3-none-any.whl (410 kB)\r\n",
      "\u001b[2K     \u001b[90m━━━━━━━━━━━━━━━━━━━━━━━━━━━━━━━━━━━━━━\u001b[0m \u001b[32m410.5/410.5 kB\u001b[0m \u001b[31m17.0 MB/s\u001b[0m eta \u001b[36m0:00:00\u001b[0m\r\n",
      "\u001b[?25hRequirement already satisfied: charset-normalizer<4,>=2 in /opt/conda/lib/python3.7/site-packages (from requests) (2.1.1)\r\n",
      "Requirement already satisfied: idna<4,>=2.5 in /opt/conda/lib/python3.7/site-packages (from requests) (3.4)\r\n",
      "Requirement already satisfied: certifi>=2017.4.17 in /opt/conda/lib/python3.7/site-packages (from requests) (2022.12.7)\r\n",
      "Requirement already satisfied: urllib3<1.27,>=1.21.1 in /opt/conda/lib/python3.7/site-packages (from requests) (1.26.14)\r\n",
      "Requirement already satisfied: pandas>=1.2.0 in /opt/conda/lib/python3.7/site-packages (from nlpaug) (1.3.5)\r\n",
      "Collecting gdown>=4.0.0\r\n",
      "  Downloading gdown-4.7.1-py3-none-any.whl (15 kB)\r\n",
      "Requirement already satisfied: filelock in /opt/conda/lib/python3.7/site-packages (from gdown>=4.0.0->nlpaug) (3.9.0)\r\n",
      "Requirement already satisfied: six in /opt/conda/lib/python3.7/site-packages (from gdown>=4.0.0->nlpaug) (1.16.0)\r\n",
      "Requirement already satisfied: beautifulsoup4 in /opt/conda/lib/python3.7/site-packages (from gdown>=4.0.0->nlpaug) (4.11.1)\r\n",
      "Requirement already satisfied: tqdm in /opt/conda/lib/python3.7/site-packages (from gdown>=4.0.0->nlpaug) (4.64.1)\r\n",
      "Requirement already satisfied: python-dateutil>=2.7.3 in /opt/conda/lib/python3.7/site-packages (from pandas>=1.2.0->nlpaug) (2.8.2)\r\n",
      "Requirement already satisfied: pytz>=2017.3 in /opt/conda/lib/python3.7/site-packages (from pandas>=1.2.0->nlpaug) (2023.3)\r\n",
      "Requirement already satisfied: soupsieve>1.2 in /opt/conda/lib/python3.7/site-packages (from beautifulsoup4->gdown>=4.0.0->nlpaug) (2.3.2.post1)\r\n",
      "Requirement already satisfied: PySocks!=1.5.7,>=1.5.6 in /opt/conda/lib/python3.7/site-packages (from requests) (1.7.1)\r\n",
      "Installing collected packages: gdown, nlpaug\r\n",
      "Successfully installed gdown-4.7.1 nlpaug-1.1.11\r\n",
      "\u001b[33mWARNING: Running pip as the 'root' user can result in broken permissions and conflicting behaviour with the system package manager. It is recommended to use a virtual environment instead: https://pip.pypa.io/warnings/venv\u001b[0m\u001b[33m\r\n",
      "\u001b[0m"
     ]
    }
   ],
   "source": [
    "import matplotlib.pyplot as plt\n",
    "\n",
    "from sklearn.neighbors import KNeighborsClassifier\n",
    "from sklearn.linear_model import LogisticRegression\n",
    "from sklearn.naive_bayes import MultinomialNB\n",
    "from sklearn.svm import LinearSVC, SVC\n",
    "from sklearn.metrics import confusion_matrix,auc,roc_auc_score,f1_score\n",
    "from sklearn.preprocessing import StandardScaler\n",
    "from sklearn.model_selection import train_test_split,RandomizedSearchCV, GridSearchCV\n",
    "from sklearn.feature_extraction.text import TfidfVectorizer\n",
    "from scikitplot.metrics import plot_confusion_matrix\n",
    "from nltk.stem import WordNetLemmatizer\n",
    "from tqdm import tqdm\n",
    "import re\n",
    "from bs4 import BeautifulSoup\n",
    "%matplotlib inline\n",
    "import warnings\n",
    "warnings.simplefilter(action='ignore', category=FutureWarning)\n",
    "!pip install nltk\n",
    "import nltk\n",
    "!pip install numpy requests nlpaug\n",
    "import nlpaug.augmenter.char as nac\n",
    "import nlpaug.augmenter.word as naw\n",
    "import nlpaug.augmenter.sentence as nas\n",
    "import nlpaug.flow as nafc\n",
    "\n",
    "from nlpaug.util import Action\n"
   ]
  },
  {
   "cell_type": "code",
   "execution_count": 4,
   "id": "0c2eda9a",
   "metadata": {
    "execution": {
     "iopub.execute_input": "2023-08-04T11:45:42.988187Z",
     "iopub.status.busy": "2023-08-04T11:45:42.987833Z",
     "iopub.status.idle": "2023-08-04T11:45:42.992739Z",
     "shell.execute_reply": "2023-08-04T11:45:42.991580Z"
    },
    "papermill": {
     "duration": 0.024,
     "end_time": "2023-08-04T11:45:42.995205",
     "exception": false,
     "start_time": "2023-08-04T11:45:42.971205",
     "status": "completed"
    },
    "tags": []
   },
   "outputs": [],
   "source": [
    "# from google.cloud import translate_v2 as translate\n",
    "\n",
    "# translate_client = translate.Client.from_service_account_json('/kaggle/input/key-translator/micro-atrium-368104-e24b1f445501.json')\n"
   ]
  },
  {
   "cell_type": "code",
   "execution_count": 5,
   "id": "d1d84015",
   "metadata": {
    "execution": {
     "iopub.execute_input": "2023-08-04T11:45:43.027540Z",
     "iopub.status.busy": "2023-08-04T11:45:43.027153Z",
     "iopub.status.idle": "2023-08-04T11:45:43.989974Z",
     "shell.execute_reply": "2023-08-04T11:45:43.988672Z"
    },
    "papermill": {
     "duration": 0.982571,
     "end_time": "2023-08-04T11:45:43.993107",
     "exception": false,
     "start_time": "2023-08-04T11:45:43.010536",
     "status": "completed"
    },
    "tags": []
   },
   "outputs": [],
   "source": [
    "# df=pd.read_csv(\"/kaggle/input/hindi-data/Hindi_pos-neg dataset-train.csv\")\n",
    "# df2 = pd.read_csv(\"/kaggle/input/eng-data-review/eng-data-train.csv\",encoding='unicode_escape')\n",
    "# df3 = pd.read_csv(\"/kaggle/input/hindi-train/hindi_train.csv\",encoding='unicode_escape')\n",
    "\n",
    "df1=pd.read_csv(\"/kaggle/input/imdb-dataset-sentiment-analysis-in-csv-format/Train.csv\")\n",
    "df1=df1[0:5000]\n"
   ]
  },
  {
   "cell_type": "code",
   "execution_count": 6,
   "id": "79377c73",
   "metadata": {
    "execution": {
     "iopub.execute_input": "2023-08-04T11:45:44.028572Z",
     "iopub.status.busy": "2023-08-04T11:45:44.027418Z",
     "iopub.status.idle": "2023-08-04T11:45:44.033457Z",
     "shell.execute_reply": "2023-08-04T11:45:44.032376Z"
    },
    "papermill": {
     "duration": 0.027199,
     "end_time": "2023-08-04T11:45:44.035998",
     "exception": false,
     "start_time": "2023-08-04T11:45:44.008799",
     "status": "completed"
    },
    "tags": []
   },
   "outputs": [],
   "source": [
    "# mkdir nltk_data\n",
    "# python -m nltk.downloader\n",
    "# nltk.download(\"wordnet\",\"/nltk_data/\")\n",
    "# nltk.download(\"wordnet\")"
   ]
  },
  {
   "cell_type": "code",
   "execution_count": 7,
   "id": "ba3301bd",
   "metadata": {
    "execution": {
     "iopub.execute_input": "2023-08-04T11:45:44.072011Z",
     "iopub.status.busy": "2023-08-04T11:45:44.070364Z",
     "iopub.status.idle": "2023-08-04T11:45:44.075950Z",
     "shell.execute_reply": "2023-08-04T11:45:44.074892Z"
    },
    "papermill": {
     "duration": 0.026418,
     "end_time": "2023-08-04T11:45:44.078763",
     "exception": false,
     "start_time": "2023-08-04T11:45:44.052345",
     "status": "completed"
    },
    "tags": []
   },
   "outputs": [],
   "source": [
    "# nltk.download(\"wordnet\", \"whatever_the_absolute_path_to_myapp_is/nltk_data/\")\n",
    "# text = 'आपकी राशि से चंद्रमा दूसरे भाव में है'\n",
    "# aug = naw.SynonymAug(aug_src='wordnet', lang='hi')\n",
    "# augmented_text = aug.augment(text)\n",
    "# print(\"Original:\")\n",
    "# print(text)\n",
    "# print(\"Augmented Text:\")\n",
    "# print(augmented_text)"
   ]
  },
  {
   "cell_type": "code",
   "execution_count": 8,
   "id": "e0dc38fe",
   "metadata": {
    "execution": {
     "iopub.execute_input": "2023-08-04T11:45:44.113556Z",
     "iopub.status.busy": "2023-08-04T11:45:44.113072Z",
     "iopub.status.idle": "2023-08-04T11:45:44.118117Z",
     "shell.execute_reply": "2023-08-04T11:45:44.116922Z"
    },
    "papermill": {
     "duration": 0.025559,
     "end_time": "2023-08-04T11:45:44.121034",
     "exception": false,
     "start_time": "2023-08-04T11:45:44.095475",
     "status": "completed"
    },
    "tags": []
   },
   "outputs": [],
   "source": [
    "\n",
    "# to append df2 at the end of df1 dataframe\n",
    "# df.append(df2)\n",
    "# # df2\n",
    "# df= pd.concat([df, df3], axis=0)\n",
    "# # df1['text'][477]\n",
    "# df"
   ]
  },
  {
   "cell_type": "code",
   "execution_count": null,
   "id": "ae750be7",
   "metadata": {
    "papermill": {
     "duration": 0.015669,
     "end_time": "2023-08-04T11:45:44.152407",
     "exception": false,
     "start_time": "2023-08-04T11:45:44.136738",
     "status": "completed"
    },
    "tags": []
   },
   "outputs": [],
   "source": []
  },
  {
   "cell_type": "code",
   "execution_count": 9,
   "id": "f1ccdbd0",
   "metadata": {
    "execution": {
     "iopub.execute_input": "2023-08-04T11:45:44.187146Z",
     "iopub.status.busy": "2023-08-04T11:45:44.186800Z",
     "iopub.status.idle": "2023-08-04T11:45:44.191587Z",
     "shell.execute_reply": "2023-08-04T11:45:44.190564Z"
    },
    "papermill": {
     "duration": 0.023587,
     "end_time": "2023-08-04T11:45:44.193934",
     "exception": false,
     "start_time": "2023-08-04T11:45:44.170347",
     "status": "completed"
    },
    "tags": []
   },
   "outputs": [],
   "source": [
    "# text = 'Bonjour tout le monde'\n",
    "\n",
    "# for ind in range(1):\n",
    "#     result = translate_client.translate(text, target_language='en')\n",
    "# #     df1.loc['text'][ind]=result\n",
    "# #     df.loc[ind, 'text'] = result['translatedText']\n",
    "# #     df1 = pd.DataFrame({\"text\":result,\"experience\":df['experience'][ind]})\n",
    "\n",
    "#     print(result['translatedText'])\n",
    "\n",
    "\n",
    "# # print(result['input'])\n",
    "# # print(result['translatedText'])\n"
   ]
  },
  {
   "cell_type": "code",
   "execution_count": null,
   "id": "f7431b28",
   "metadata": {
    "papermill": {
     "duration": 0.015682,
     "end_time": "2023-08-04T11:45:44.224802",
     "exception": false,
     "start_time": "2023-08-04T11:45:44.209120",
     "status": "completed"
    },
    "tags": []
   },
   "outputs": [],
   "source": []
  },
  {
   "cell_type": "markdown",
   "id": "be49fd9a",
   "metadata": {
    "papermill": {
     "duration": 0.014866,
     "end_time": "2023-08-04T11:45:44.255055",
     "exception": false,
     "start_time": "2023-08-04T11:45:44.240189",
     "status": "completed"
    },
    "tags": []
   },
   "source": []
  },
  {
   "cell_type": "code",
   "execution_count": 10,
   "id": "f0dfdd57",
   "metadata": {
    "execution": {
     "iopub.execute_input": "2023-08-04T11:45:44.290684Z",
     "iopub.status.busy": "2023-08-04T11:45:44.289649Z",
     "iopub.status.idle": "2023-08-04T11:45:44.303617Z",
     "shell.execute_reply": "2023-08-04T11:45:44.302567Z"
    },
    "papermill": {
     "duration": 0.032669,
     "end_time": "2023-08-04T11:45:44.306035",
     "exception": false,
     "start_time": "2023-08-04T11:45:44.273366",
     "status": "completed"
    },
    "tags": []
   },
   "outputs": [
    {
     "data": {
      "text/plain": [
       "text     False\n",
       "label    False\n",
       "dtype: bool"
      ]
     },
     "execution_count": 10,
     "metadata": {},
     "output_type": "execute_result"
    }
   ],
   "source": [
    "df1.isnull().any()"
   ]
  },
  {
   "cell_type": "code",
   "execution_count": 11,
   "id": "a6f5db7b",
   "metadata": {
    "execution": {
     "iopub.execute_input": "2023-08-04T11:45:44.338542Z",
     "iopub.status.busy": "2023-08-04T11:45:44.337630Z",
     "iopub.status.idle": "2023-08-04T11:45:44.541968Z",
     "shell.execute_reply": "2023-08-04T11:45:44.540626Z"
    },
    "papermill": {
     "duration": 0.225351,
     "end_time": "2023-08-04T11:45:44.546675",
     "exception": false,
     "start_time": "2023-08-04T11:45:44.321324",
     "status": "completed"
    },
    "tags": []
   },
   "outputs": [
    {
     "data": {
      "text/plain": [
       "Text(0.5, 1.0, 'Labels')"
      ]
     },
     "execution_count": 11,
     "metadata": {},
     "output_type": "execute_result"
    },
    {
     "data": {
      "image/png": "[encoded data removed]",
      "text/plain": [
       "<Figure size 640x480 with 1 Axes>"
      ]
     },
     "metadata": {},
     "output_type": "display_data"
    }
   ],
   "source": [
    "plt.pie(df1[\"label\"].value_counts(),autopct='%1.0f%%',radius=2,labels=df1[\"label\"].unique(),colors=[\"r\",\"y\"])\n",
    "plt.title(\"Labels\")"
   ]
  },
  {
   "cell_type": "code",
   "execution_count": 12,
   "id": "d6a3c5db",
   "metadata": {
    "execution": {
     "iopub.execute_input": "2023-08-04T11:45:44.590497Z",
     "iopub.status.busy": "2023-08-04T11:45:44.590142Z",
     "iopub.status.idle": "2023-08-04T11:45:44.596240Z",
     "shell.execute_reply": "2023-08-04T11:45:44.595027Z"
    },
    "papermill": {
     "duration": 0.02785,
     "end_time": "2023-08-04T11:45:44.600820",
     "exception": false,
     "start_time": "2023-08-04T11:45:44.572970",
     "status": "completed"
    },
    "tags": []
   },
   "outputs": [
    {
     "name": "stdout",
     "output_type": "stream",
     "text": [
      "Just because an event really happened doesn't mean that it will make a good screenplay/ movie. The Cat's Meow, by Peter Bogdanovich claims to be based on actual events which happened on a cruise hosted by William Randolph Hurst. The writer paid more attention to creating a bizarre cast of characters than taking time to create a story for the bizarre characters to inhabit. The key moments of the story seem implausible; for example, when Hurst accidentally shoots the producer, believing him to be Chaplin. Basing a key element of a story on someone wearing the wrong hat is trite and contrived. The story attempts to be a dark comedy, but The Cat's Meow misses an important piece of this equation, comedy. There is also a lack of empathy for any of the characters. It hardly matters who is shot, who is killed, who is guilty and who is innocent. There is not a strong character to cheer for. As a result the conflicts are difficult to care about and the eventual outcome is incidental.\n"
     ]
    }
   ],
   "source": [
    "review500=df1[\"text\"][500]\n",
    "print(review500)\n",
    "# review34"
   ]
  },
  {
   "cell_type": "code",
   "execution_count": 13,
   "id": "54c85095",
   "metadata": {
    "execution": {
     "iopub.execute_input": "2023-08-04T11:45:44.634183Z",
     "iopub.status.busy": "2023-08-04T11:45:44.633867Z",
     "iopub.status.idle": "2023-08-04T11:45:44.676683Z",
     "shell.execute_reply": "2023-08-04T11:45:44.675011Z"
    },
    "papermill": {
     "duration": 0.062356,
     "end_time": "2023-08-04T11:45:44.679184",
     "exception": false,
     "start_time": "2023-08-04T11:45:44.616828",
     "status": "completed"
    },
    "tags": []
   },
   "outputs": [
    {
     "name": "stdout",
     "output_type": "stream",
     "text": [
      "[nltk_data] Downloading package stopwords to /usr/share/nltk_data...\n",
      "[nltk_data]   Package stopwords is already up-to-date!\n"
     ]
    }
   ],
   "source": [
    "import nltk\n",
    "from nltk.stem import PorterStemmer\n",
    "from nltk.tokenize import word_tokenize\n",
    "from nltk.corpus import stopwords\n",
    "nltk.download('stopwords')\n",
    "stop_words = set(stopwords.words('english'))"
   ]
  },
  {
   "cell_type": "code",
   "execution_count": 14,
   "id": "e62be9c6",
   "metadata": {
    "execution": {
     "iopub.execute_input": "2023-08-04T11:45:44.714298Z",
     "iopub.status.busy": "2023-08-04T11:45:44.713435Z",
     "iopub.status.idle": "2023-08-04T11:45:44.719200Z",
     "shell.execute_reply": "2023-08-04T11:45:44.717989Z"
    },
    "papermill": {
     "duration": 0.027804,
     "end_time": "2023-08-04T11:45:44.723549",
     "exception": false,
     "start_time": "2023-08-04T11:45:44.695745",
     "status": "completed"
    },
    "tags": []
   },
   "outputs": [
    {
     "name": "stdout",
     "output_type": "stream",
     "text": [
      "{'be', 'won', 'does', \"aren't\", 'he', 'what', 'those', 'haven', 'who', 'until', \"you're\", \"you've\", \"doesn't\", \"isn't\", 'to', 'ourselves', 'you', 'his', 'that', 'by', \"haven't\", 'below', 'from', 'up', 'so', 'again', 'nor', \"you'd\", 'just', 'where', 'himself', 'myself', 'for', 'doesn', 'its', 'll', 'yourself', 'on', 'when', \"mightn't\", \"won't\", 'their', 'between', \"she's\", 'is', 'further', 'it', \"it's\", 'both', 'own', 'too', 've', 'hadn', 'down', 'against', 'weren', 'with', 'or', 'if', 'can', 'we', \"should've\", 'into', 'most', 'y', 'having', 'her', 'some', 'were', \"don't\", 're', 'hasn', 'me', \"shouldn't\", 'before', 'o', 'mustn', 'there', 'not', \"didn't\", 'theirs', 'are', 'than', 'couldn', 'm', 'an', 'which', 'only', 'yourselves', 'how', \"mustn't\", 's', 'they', 'very', 'during', 'shan', 'under', 'your', 'will', \"shan't\", 'off', 'each', 'don', 'why', 'ours', 'hers', \"that'll\", 'doing', 'all', 'at', 'no', 'same', 'and', 'but', \"hasn't\", 'while', 'shouldn', 'about', 'our', \"hadn't\", 'been', 'itself', 'of', 'more', 'once', 'my', 'through', 'such', 'the', 'yours', 'had', 'any', 'being', 'these', 'this', \"couldn't\", 'i', 'themselves', 'isn', 'after', 'do', 'in', \"weren't\", 't', 'now', \"you'll\", 'did', 'few', 'wouldn', 'over', 'whom', 'out', 'needn', 'she', 'other', 'was', 'mightn', 'a', 'have', 'above', 'then', 'should', 'd', 'them', 'herself', 'here', \"wasn't\", 'him', 'as', \"needn't\", 'aren', 'because', 'didn', 'has', 'ain', 'am', 'ma', 'wasn', \"wouldn't\"}\n"
     ]
    }
   ],
   "source": [
    "print(stop_words)"
   ]
  },
  {
   "cell_type": "code",
   "execution_count": 15,
   "id": "a7c94dde",
   "metadata": {
    "execution": {
     "iopub.execute_input": "2023-08-04T11:45:44.757316Z",
     "iopub.status.busy": "2023-08-04T11:45:44.756997Z",
     "iopub.status.idle": "2023-08-04T11:45:44.761574Z",
     "shell.execute_reply": "2023-08-04T11:45:44.760455Z"
    },
    "papermill": {
     "duration": 0.024319,
     "end_time": "2023-08-04T11:45:44.764097",
     "exception": false,
     "start_time": "2023-08-04T11:45:44.739778",
     "status": "completed"
    },
    "tags": []
   },
   "outputs": [],
   "source": [
    "#let us remove word not from stop words, since it is the one of the most important word in classifing the review.\n",
    "stop_words.remove(\"not\")"
   ]
  },
  {
   "cell_type": "code",
   "execution_count": 16,
   "id": "7579ea22",
   "metadata": {
    "execution": {
     "iopub.execute_input": "2023-08-04T11:45:44.798257Z",
     "iopub.status.busy": "2023-08-04T11:45:44.797380Z",
     "iopub.status.idle": "2023-08-04T11:45:44.806228Z",
     "shell.execute_reply": "2023-08-04T11:45:44.805121Z"
    },
    "papermill": {
     "duration": 0.028365,
     "end_time": "2023-08-04T11:45:44.808487",
     "exception": false,
     "start_time": "2023-08-04T11:45:44.780122",
     "status": "completed"
    },
    "tags": []
   },
   "outputs": [],
   "source": [
    "def text_Preprocessing(reviews):\n",
    "    \n",
    "    \n",
    "    \"\"\" This will clean the text data, remove html tags, remove special characters and then tokenize the reviews to apply Stemmer on each word token.\"\"\"\n",
    "    \n",
    "    pre_processed_reviews=[]\n",
    "    \n",
    "    for review in tqdm(reviews):\n",
    "        review= BeautifulSoup(review,'lxml').getText()    #remove html tags\n",
    "        review=re.sub('\\S*\\d\\S*','',review).strip()\n",
    "        review=re.sub('[^A-Za-z]+',' ',review)        #remove special chars\n",
    "        review=re.sub(\"n't\",\"not\",review)\n",
    "        review=word_tokenize(str(review.lower())) #tokenize the reviews into word tokens\n",
    "\n",
    "        # now we will split the review into words and then check if these words are in the stop words if so we will remove them, if not we will join\n",
    "        review=' '.join(PorterStemmer().stem(word) for word in review if word not in stop_words)\n",
    "        pre_processed_reviews.append(review.strip())\n",
    "    return pre_processed_reviews"
   ]
  },
  {
   "cell_type": "code",
   "execution_count": 17,
   "id": "568af4c2",
   "metadata": {
    "execution": {
     "iopub.execute_input": "2023-08-04T11:45:44.842176Z",
     "iopub.status.busy": "2023-08-04T11:45:44.841853Z",
     "iopub.status.idle": "2023-08-04T11:46:25.837799Z",
     "shell.execute_reply": "2023-08-04T11:46:25.836627Z"
    },
    "papermill": {
     "duration": 41.016805,
     "end_time": "2023-08-04T11:46:25.841289",
     "exception": false,
     "start_time": "2023-08-04T11:45:44.824484",
     "status": "completed"
    },
    "tags": []
   },
   "outputs": [
    {
     "name": "stderr",
     "output_type": "stream",
     "text": [
      " 10%|█         | 512/5000 [00:04<00:38, 116.69it/s]/opt/conda/lib/python3.7/site-packages/bs4/__init__.py:439: MarkupResemblesLocatorWarning: The input looks more like a filename than markup. You may want to open this file and pass the filehandle into Beautiful Soup.\n",
      "  MarkupResemblesLocatorWarning\n",
      "100%|██████████| 5000/5000 [00:40<00:00, 122.00it/s]\n"
     ]
    },
    {
     "data": {
      "text/plain": [
       "'event realli happen mean make good screenplay movi cat meow peter bogdanovich claim base actual event happen cruis host william randolph hurst writer paid attent creat bizarr cast charact take time creat stori bizarr charact inhabit key moment stori seem implaus exampl hurst accident shoot produc believ chaplin base key element stori someon wear wrong hat trite contriv stori attempt dark comedi cat meow miss import piec equat comedi also lack empathi charact hardli matter shot kill guilti innoc not strong charact cheer result conflict difficult care eventu outcom incident'"
      ]
     },
     "execution_count": 17,
     "metadata": {},
     "output_type": "execute_result"
    }
   ],
   "source": [
    "preprocessed_reviews=text_Preprocessing(df1[\"text\"])\n",
    "preprocessed_reviews[500]"
   ]
  },
  {
   "cell_type": "code",
   "execution_count": 18,
   "id": "77df4bb3",
   "metadata": {
    "execution": {
     "iopub.execute_input": "2023-08-04T11:46:25.931959Z",
     "iopub.status.busy": "2023-08-04T11:46:25.930980Z",
     "iopub.status.idle": "2023-08-04T11:46:25.948724Z",
     "shell.execute_reply": "2023-08-04T11:46:25.947407Z"
    },
    "papermill": {
     "duration": 0.066364,
     "end_time": "2023-08-04T11:46:25.951624",
     "exception": false,
     "start_time": "2023-08-04T11:46:25.885260",
     "status": "completed"
    },
    "tags": []
   },
   "outputs": [
    {
     "data": {
      "text/html": [
       "<div>\n",
       "<style scoped>\n",
       "    .dataframe tbody tr th:only-of-type {\n",
       "        vertical-align: middle;\n",
       "    }\n",
       "\n",
       "    .dataframe tbody tr th {\n",
       "        vertical-align: top;\n",
       "    }\n",
       "\n",
       "    .dataframe thead th {\n",
       "        text-align: right;\n",
       "    }\n",
       "</style>\n",
       "<table border=\"1\" class=\"dataframe\">\n",
       "  <thead>\n",
       "    <tr style=\"text-align: right;\">\n",
       "      <th></th>\n",
       "      <th>text</th>\n",
       "      <th>sentiment</th>\n",
       "    </tr>\n",
       "  </thead>\n",
       "  <tbody>\n",
       "    <tr>\n",
       "      <th>0</th>\n",
       "      <td>grew b watch love thunderbird mate school watc...</td>\n",
       "      <td>0</td>\n",
       "    </tr>\n",
       "    <tr>\n",
       "      <th>1</th>\n",
       "      <td>put movi dvd player sat coke chip expect hope ...</td>\n",
       "      <td>0</td>\n",
       "    </tr>\n",
       "    <tr>\n",
       "      <th>2</th>\n",
       "      <td>peopl not know particular time past like feel ...</td>\n",
       "      <td>0</td>\n",
       "    </tr>\n",
       "    <tr>\n",
       "      <th>3</th>\n",
       "      <td>even though great interest biblic movi bore de...</td>\n",
       "      <td>0</td>\n",
       "    </tr>\n",
       "    <tr>\n",
       "      <th>4</th>\n",
       "      <td>im die hard dad armi fan noth ever chang got t...</td>\n",
       "      <td>1</td>\n",
       "    </tr>\n",
       "  </tbody>\n",
       "</table>\n",
       "</div>"
      ],
      "text/plain": [
       "                                                text  sentiment\n",
       "0  grew b watch love thunderbird mate school watc...          0\n",
       "1  put movi dvd player sat coke chip expect hope ...          0\n",
       "2  peopl not know particular time past like feel ...          0\n",
       "3  even though great interest biblic movi bore de...          0\n",
       "4  im die hard dad armi fan noth ever chang got t...          1"
      ]
     },
     "execution_count": 18,
     "metadata": {},
     "output_type": "execute_result"
    }
   ],
   "source": [
    "preprocessed_reviews=pd.DataFrame({\"text\":preprocessed_reviews,\"sentiment\":df1.label})\n",
    "preprocessed_reviews.head()"
   ]
  },
  {
   "cell_type": "code",
   "execution_count": 19,
   "id": "4ab20b67",
   "metadata": {
    "execution": {
     "iopub.execute_input": "2023-08-04T11:46:26.043166Z",
     "iopub.status.busy": "2023-08-04T11:46:26.041270Z",
     "iopub.status.idle": "2023-08-04T11:46:26.051350Z",
     "shell.execute_reply": "2023-08-04T11:46:26.050124Z"
    },
    "papermill": {
     "duration": 0.057615,
     "end_time": "2023-08-04T11:46:26.053885",
     "exception": false,
     "start_time": "2023-08-04T11:46:25.996270",
     "status": "completed"
    },
    "tags": []
   },
   "outputs": [
    {
     "data": {
      "text/plain": [
       "0    2582\n",
       "1    2418\n",
       "Name: sentiment, dtype: int64"
      ]
     },
     "execution_count": 19,
     "metadata": {},
     "output_type": "execute_result"
    }
   ],
   "source": [
    "preprocessed_reviews.sentiment.value_counts()"
   ]
  },
  {
   "cell_type": "markdown",
   "id": "207d67cd",
   "metadata": {
    "papermill": {
     "duration": 0.043548,
     "end_time": "2023-08-04T11:46:26.145195",
     "exception": false,
     "start_time": "2023-08-04T11:46:26.101647",
     "status": "completed"
    },
    "tags": []
   },
   "source": [
    "Observations:\n",
    "1. we cleaned our text data, removed unnecessary tags\n",
    "2. Though we cleaned our data, it is still in string format which computers won't understand, for this we use text featuration."
   ]
  },
  {
   "cell_type": "markdown",
   "id": "0093e056",
   "metadata": {
    "papermill": {
     "duration": 0.044136,
     "end_time": "2023-08-04T11:46:26.232918",
     "exception": false,
     "start_time": "2023-08-04T11:46:26.188782",
     "status": "completed"
    },
    "tags": []
   },
   "source": [
    "### Featurization"
   ]
  },
  {
   "cell_type": "code",
   "execution_count": 20,
   "id": "17def4fc",
   "metadata": {
    "execution": {
     "iopub.execute_input": "2023-08-04T11:46:26.321234Z",
     "iopub.status.busy": "2023-08-04T11:46:26.320840Z",
     "iopub.status.idle": "2023-08-04T11:46:26.325925Z",
     "shell.execute_reply": "2023-08-04T11:46:26.324794Z"
    },
    "papermill": {
     "duration": 0.051626,
     "end_time": "2023-08-04T11:46:26.328263",
     "exception": false,
     "start_time": "2023-08-04T11:46:26.276637",
     "status": "completed"
    },
    "tags": []
   },
   "outputs": [],
   "source": [
    "from sklearn.preprocessing import StandardScaler"
   ]
  },
  {
   "cell_type": "code",
   "execution_count": 21,
   "id": "736d274c",
   "metadata": {
    "execution": {
     "iopub.execute_input": "2023-08-04T11:46:26.417305Z",
     "iopub.status.busy": "2023-08-04T11:46:26.416321Z",
     "iopub.status.idle": "2023-08-04T11:46:26.427994Z",
     "shell.execute_reply": "2023-08-04T11:46:26.426519Z"
    },
    "papermill": {
     "duration": 0.058464,
     "end_time": "2023-08-04T11:46:26.430276",
     "exception": false,
     "start_time": "2023-08-04T11:46:26.371812",
     "status": "completed"
    },
    "tags": []
   },
   "outputs": [
    {
     "name": "stdout",
     "output_type": "stream",
     "text": [
      "(3750,) (1250,)\n",
      "(3750,) (1250,)\n"
     ]
    }
   ],
   "source": [
    "reviews_train,reviews_test,sentiment_train,sentiment_test=train_test_split(preprocessed_reviews.text,preprocessed_reviews.sentiment)\n",
    "print(reviews_train.shape,reviews_test.shape)\n",
    "print(sentiment_train.shape,sentiment_test.shape)"
   ]
  },
  {
   "cell_type": "code",
   "execution_count": 22,
   "id": "173e9181",
   "metadata": {
    "execution": {
     "iopub.execute_input": "2023-08-04T11:46:26.519939Z",
     "iopub.status.busy": "2023-08-04T11:46:26.519557Z",
     "iopub.status.idle": "2023-08-04T11:46:29.937774Z",
     "shell.execute_reply": "2023-08-04T11:46:29.936602Z"
    },
    "papermill": {
     "duration": 3.465087,
     "end_time": "2023-08-04T11:46:29.940415",
     "exception": false,
     "start_time": "2023-08-04T11:46:26.475328",
     "status": "completed"
    },
    "tags": []
   },
   "outputs": [
    {
     "data": {
      "text/plain": [
       "((3750, 6000), (1250, 6000))"
      ]
     },
     "execution_count": 22,
     "metadata": {},
     "output_type": "execute_result"
    }
   ],
   "source": [
    "tfidf_model=TfidfVectorizer(ngram_range=(1,2),min_df=10, max_features=6000)\n",
    "tfidf_model.fit(reviews_train,sentiment_train)\n",
    "reviews_train_tfidf=tfidf_model.transform(reviews_train)\n",
    "reviews_test_tfidf=tfidf_model.transform(reviews_test)\n",
    "reviews_train_tfidf.shape,reviews_test_tfidf.shape\n",
    "# tfidf_vector_X = vectorizer.transform(X).toarray()  #//shape - (3,6)\n",
    "# tfidf_vector_Y = vectorizer.transform(Y).toarray()\n",
    "# tfidf_vector_X = tfidf_vector_X[:, :, None] #shape - (3,6,1) since LSTM cells expects ndims = 3\n",
    "# tfidf_vector_Y = tfidf_vector_Y[:, :, None] #shape - (3,6,1)\n"
   ]
  },
  {
   "cell_type": "code",
   "execution_count": 23,
   "id": "07a6f9bc",
   "metadata": {
    "execution": {
     "iopub.execute_input": "2023-08-04T11:46:30.032014Z",
     "iopub.status.busy": "2023-08-04T11:46:30.030446Z",
     "iopub.status.idle": "2023-08-04T11:46:30.438640Z",
     "shell.execute_reply": "2023-08-04T11:46:30.437450Z"
    },
    "papermill": {
     "duration": 0.456117,
     "end_time": "2023-08-04T11:46:30.441650",
     "exception": false,
     "start_time": "2023-08-04T11:46:29.985533",
     "status": "completed"
    },
    "tags": []
   },
   "outputs": [],
   "source": [
    "from tensorflow.keras.preprocessing.text import Tokenizer\n",
    "token = Tokenizer()\n",
    "token.fit_on_texts(reviews_train)"
   ]
  },
  {
   "cell_type": "code",
   "execution_count": 24,
   "id": "90ba1739",
   "metadata": {
    "execution": {
     "iopub.execute_input": "2023-08-04T11:46:30.533457Z",
     "iopub.status.busy": "2023-08-04T11:46:30.533057Z",
     "iopub.status.idle": "2023-08-04T11:46:30.920018Z",
     "shell.execute_reply": "2023-08-04T11:46:30.918849Z"
    },
    "papermill": {
     "duration": 0.43431,
     "end_time": "2023-08-04T11:46:30.923005",
     "exception": false,
     "start_time": "2023-08-04T11:46:30.488695",
     "status": "completed"
    },
    "tags": []
   },
   "outputs": [],
   "source": [
    "train_sequences = token.texts_to_sequences(reviews_train)\n",
    "valid_sequences = token.texts_to_sequences(reviews_test)"
   ]
  },
  {
   "cell_type": "code",
   "execution_count": 25,
   "id": "986341a8",
   "metadata": {
    "execution": {
     "iopub.execute_input": "2023-08-04T11:46:31.014260Z",
     "iopub.status.busy": "2023-08-04T11:46:31.013879Z",
     "iopub.status.idle": "2023-08-04T11:46:31.020671Z",
     "shell.execute_reply": "2023-08-04T11:46:31.019645Z"
    },
    "papermill": {
     "duration": 0.055813,
     "end_time": "2023-08-04T11:46:31.023168",
     "exception": false,
     "start_time": "2023-08-04T11:46:30.967355",
     "status": "completed"
    },
    "tags": []
   },
   "outputs": [
    {
     "data": {
      "text/plain": [
       "22808"
      ]
     },
     "execution_count": 25,
     "metadata": {},
     "output_type": "execute_result"
    }
   ],
   "source": [
    "vocab_size = len(token.word_index)+1\n",
    "vocab_size"
   ]
  },
  {
   "cell_type": "code",
   "execution_count": 26,
   "id": "db2218b5",
   "metadata": {
    "execution": {
     "iopub.execute_input": "2023-08-04T11:46:31.112905Z",
     "iopub.status.busy": "2023-08-04T11:46:31.111772Z",
     "iopub.status.idle": "2023-08-04T11:46:31.117280Z",
     "shell.execute_reply": "2023-08-04T11:46:31.116349Z"
    },
    "papermill": {
     "duration": 0.052909,
     "end_time": "2023-08-04T11:46:31.119600",
     "exception": false,
     "start_time": "2023-08-04T11:46:31.066691",
     "status": "completed"
    },
    "tags": []
   },
   "outputs": [],
   "source": [
    "maxlen=100"
   ]
  },
  {
   "cell_type": "code",
   "execution_count": 27,
   "id": "7875c63d",
   "metadata": {
    "execution": {
     "iopub.execute_input": "2023-08-04T11:46:31.211592Z",
     "iopub.status.busy": "2023-08-04T11:46:31.211175Z",
     "iopub.status.idle": "2023-08-04T11:46:31.273076Z",
     "shell.execute_reply": "2023-08-04T11:46:31.271921Z"
    },
    "papermill": {
     "duration": 0.111681,
     "end_time": "2023-08-04T11:46:31.275855",
     "exception": false,
     "start_time": "2023-08-04T11:46:31.164174",
     "status": "completed"
    },
    "tags": []
   },
   "outputs": [],
   "source": [
    "from tensorflow.keras.preprocessing.sequence import pad_sequences\n",
    "X_train = pad_sequences(train_sequences, maxlen=maxlen,padding = 'post')\n",
    "X_test = pad_sequences(valid_sequences, maxlen=maxlen,padding = 'post')"
   ]
  },
  {
   "cell_type": "code",
   "execution_count": 28,
   "id": "69c4e4ba",
   "metadata": {
    "execution": {
     "iopub.execute_input": "2023-08-04T11:46:31.365175Z",
     "iopub.status.busy": "2023-08-04T11:46:31.364793Z",
     "iopub.status.idle": "2023-08-04T11:46:31.634147Z",
     "shell.execute_reply": "2023-08-04T11:46:31.632909Z"
    },
    "papermill": {
     "duration": 0.317298,
     "end_time": "2023-08-04T11:46:31.637353",
     "exception": false,
     "start_time": "2023-08-04T11:46:31.320055",
     "status": "completed"
    },
    "tags": []
   },
   "outputs": [
    {
     "data": {
      "text/html": [
       "<div>\n",
       "<style scoped>\n",
       "    .dataframe tbody tr th:only-of-type {\n",
       "        vertical-align: middle;\n",
       "    }\n",
       "\n",
       "    .dataframe tbody tr th {\n",
       "        vertical-align: top;\n",
       "    }\n",
       "\n",
       "    .dataframe thead th {\n",
       "        text-align: right;\n",
       "    }\n",
       "</style>\n",
       "<table border=\"1\" class=\"dataframe\">\n",
       "  <thead>\n",
       "    <tr style=\"text-align: right;\">\n",
       "      <th></th>\n",
       "      <th>abandon</th>\n",
       "      <th>abc</th>\n",
       "      <th>abduct</th>\n",
       "      <th>abil</th>\n",
       "      <th>abl</th>\n",
       "      <th>aboard</th>\n",
       "      <th>absenc</th>\n",
       "      <th>absolut</th>\n",
       "      <th>absolut love</th>\n",
       "      <th>absolut noth</th>\n",
       "      <th>...</th>\n",
       "      <th>young kid</th>\n",
       "      <th>young man</th>\n",
       "      <th>young woman</th>\n",
       "      <th>younger</th>\n",
       "      <th>youngest</th>\n",
       "      <th>youth</th>\n",
       "      <th>youtub</th>\n",
       "      <th>zero</th>\n",
       "      <th>zombi</th>\n",
       "      <th>zone</th>\n",
       "    </tr>\n",
       "  </thead>\n",
       "  <tbody>\n",
       "    <tr>\n",
       "      <th>3518</th>\n",
       "      <td>0.0</td>\n",
       "      <td>0.0</td>\n",
       "      <td>0.0</td>\n",
       "      <td>0.0</td>\n",
       "      <td>0.000000</td>\n",
       "      <td>0.0</td>\n",
       "      <td>0.0</td>\n",
       "      <td>0.000000</td>\n",
       "      <td>0.0</td>\n",
       "      <td>0.0</td>\n",
       "      <td>...</td>\n",
       "      <td>0.0</td>\n",
       "      <td>0.0</td>\n",
       "      <td>0.0</td>\n",
       "      <td>0.0</td>\n",
       "      <td>0.0</td>\n",
       "      <td>0.0</td>\n",
       "      <td>0.0</td>\n",
       "      <td>0.0</td>\n",
       "      <td>0.0</td>\n",
       "      <td>0.0</td>\n",
       "    </tr>\n",
       "    <tr>\n",
       "      <th>217</th>\n",
       "      <td>0.0</td>\n",
       "      <td>0.0</td>\n",
       "      <td>0.0</td>\n",
       "      <td>0.0</td>\n",
       "      <td>0.000000</td>\n",
       "      <td>0.0</td>\n",
       "      <td>0.0</td>\n",
       "      <td>0.000000</td>\n",
       "      <td>0.0</td>\n",
       "      <td>0.0</td>\n",
       "      <td>...</td>\n",
       "      <td>0.0</td>\n",
       "      <td>0.0</td>\n",
       "      <td>0.0</td>\n",
       "      <td>0.0</td>\n",
       "      <td>0.0</td>\n",
       "      <td>0.0</td>\n",
       "      <td>0.0</td>\n",
       "      <td>0.0</td>\n",
       "      <td>0.0</td>\n",
       "      <td>0.0</td>\n",
       "    </tr>\n",
       "    <tr>\n",
       "      <th>1872</th>\n",
       "      <td>0.0</td>\n",
       "      <td>0.0</td>\n",
       "      <td>0.0</td>\n",
       "      <td>0.0</td>\n",
       "      <td>0.000000</td>\n",
       "      <td>0.0</td>\n",
       "      <td>0.0</td>\n",
       "      <td>0.000000</td>\n",
       "      <td>0.0</td>\n",
       "      <td>0.0</td>\n",
       "      <td>...</td>\n",
       "      <td>0.0</td>\n",
       "      <td>0.0</td>\n",
       "      <td>0.0</td>\n",
       "      <td>0.0</td>\n",
       "      <td>0.0</td>\n",
       "      <td>0.0</td>\n",
       "      <td>0.0</td>\n",
       "      <td>0.0</td>\n",
       "      <td>0.0</td>\n",
       "      <td>0.0</td>\n",
       "    </tr>\n",
       "    <tr>\n",
       "      <th>4264</th>\n",
       "      <td>0.0</td>\n",
       "      <td>0.0</td>\n",
       "      <td>0.0</td>\n",
       "      <td>0.0</td>\n",
       "      <td>0.000000</td>\n",
       "      <td>0.0</td>\n",
       "      <td>0.0</td>\n",
       "      <td>0.043916</td>\n",
       "      <td>0.0</td>\n",
       "      <td>0.0</td>\n",
       "      <td>...</td>\n",
       "      <td>0.0</td>\n",
       "      <td>0.0</td>\n",
       "      <td>0.0</td>\n",
       "      <td>0.0</td>\n",
       "      <td>0.0</td>\n",
       "      <td>0.0</td>\n",
       "      <td>0.0</td>\n",
       "      <td>0.0</td>\n",
       "      <td>0.0</td>\n",
       "      <td>0.0</td>\n",
       "    </tr>\n",
       "    <tr>\n",
       "      <th>3965</th>\n",
       "      <td>0.0</td>\n",
       "      <td>0.0</td>\n",
       "      <td>0.0</td>\n",
       "      <td>0.0</td>\n",
       "      <td>0.000000</td>\n",
       "      <td>0.0</td>\n",
       "      <td>0.0</td>\n",
       "      <td>0.109597</td>\n",
       "      <td>0.0</td>\n",
       "      <td>0.0</td>\n",
       "      <td>...</td>\n",
       "      <td>0.0</td>\n",
       "      <td>0.0</td>\n",
       "      <td>0.0</td>\n",
       "      <td>0.0</td>\n",
       "      <td>0.0</td>\n",
       "      <td>0.0</td>\n",
       "      <td>0.0</td>\n",
       "      <td>0.0</td>\n",
       "      <td>0.0</td>\n",
       "      <td>0.0</td>\n",
       "    </tr>\n",
       "    <tr>\n",
       "      <th>...</th>\n",
       "      <td>...</td>\n",
       "      <td>...</td>\n",
       "      <td>...</td>\n",
       "      <td>...</td>\n",
       "      <td>...</td>\n",
       "      <td>...</td>\n",
       "      <td>...</td>\n",
       "      <td>...</td>\n",
       "      <td>...</td>\n",
       "      <td>...</td>\n",
       "      <td>...</td>\n",
       "      <td>...</td>\n",
       "      <td>...</td>\n",
       "      <td>...</td>\n",
       "      <td>...</td>\n",
       "      <td>...</td>\n",
       "      <td>...</td>\n",
       "      <td>...</td>\n",
       "      <td>...</td>\n",
       "      <td>...</td>\n",
       "      <td>...</td>\n",
       "    </tr>\n",
       "    <tr>\n",
       "      <th>3058</th>\n",
       "      <td>0.0</td>\n",
       "      <td>0.0</td>\n",
       "      <td>0.0</td>\n",
       "      <td>0.0</td>\n",
       "      <td>0.000000</td>\n",
       "      <td>0.0</td>\n",
       "      <td>0.0</td>\n",
       "      <td>0.000000</td>\n",
       "      <td>0.0</td>\n",
       "      <td>0.0</td>\n",
       "      <td>...</td>\n",
       "      <td>0.0</td>\n",
       "      <td>0.0</td>\n",
       "      <td>0.0</td>\n",
       "      <td>0.0</td>\n",
       "      <td>0.0</td>\n",
       "      <td>0.0</td>\n",
       "      <td>0.0</td>\n",
       "      <td>0.0</td>\n",
       "      <td>0.0</td>\n",
       "      <td>0.0</td>\n",
       "    </tr>\n",
       "    <tr>\n",
       "      <th>429</th>\n",
       "      <td>0.0</td>\n",
       "      <td>0.0</td>\n",
       "      <td>0.0</td>\n",
       "      <td>0.0</td>\n",
       "      <td>0.000000</td>\n",
       "      <td>0.0</td>\n",
       "      <td>0.0</td>\n",
       "      <td>0.000000</td>\n",
       "      <td>0.0</td>\n",
       "      <td>0.0</td>\n",
       "      <td>...</td>\n",
       "      <td>0.0</td>\n",
       "      <td>0.0</td>\n",
       "      <td>0.0</td>\n",
       "      <td>0.0</td>\n",
       "      <td>0.0</td>\n",
       "      <td>0.0</td>\n",
       "      <td>0.0</td>\n",
       "      <td>0.0</td>\n",
       "      <td>0.0</td>\n",
       "      <td>0.0</td>\n",
       "    </tr>\n",
       "    <tr>\n",
       "      <th>1003</th>\n",
       "      <td>0.0</td>\n",
       "      <td>0.0</td>\n",
       "      <td>0.0</td>\n",
       "      <td>0.0</td>\n",
       "      <td>0.042622</td>\n",
       "      <td>0.0</td>\n",
       "      <td>0.0</td>\n",
       "      <td>0.000000</td>\n",
       "      <td>0.0</td>\n",
       "      <td>0.0</td>\n",
       "      <td>...</td>\n",
       "      <td>0.0</td>\n",
       "      <td>0.0</td>\n",
       "      <td>0.0</td>\n",
       "      <td>0.0</td>\n",
       "      <td>0.0</td>\n",
       "      <td>0.0</td>\n",
       "      <td>0.0</td>\n",
       "      <td>0.0</td>\n",
       "      <td>0.0</td>\n",
       "      <td>0.0</td>\n",
       "    </tr>\n",
       "    <tr>\n",
       "      <th>4422</th>\n",
       "      <td>0.0</td>\n",
       "      <td>0.0</td>\n",
       "      <td>0.0</td>\n",
       "      <td>0.0</td>\n",
       "      <td>0.000000</td>\n",
       "      <td>0.0</td>\n",
       "      <td>0.0</td>\n",
       "      <td>0.000000</td>\n",
       "      <td>0.0</td>\n",
       "      <td>0.0</td>\n",
       "      <td>...</td>\n",
       "      <td>0.0</td>\n",
       "      <td>0.0</td>\n",
       "      <td>0.0</td>\n",
       "      <td>0.0</td>\n",
       "      <td>0.0</td>\n",
       "      <td>0.0</td>\n",
       "      <td>0.0</td>\n",
       "      <td>0.0</td>\n",
       "      <td>0.0</td>\n",
       "      <td>0.0</td>\n",
       "    </tr>\n",
       "    <tr>\n",
       "      <th>701</th>\n",
       "      <td>0.0</td>\n",
       "      <td>0.0</td>\n",
       "      <td>0.0</td>\n",
       "      <td>0.0</td>\n",
       "      <td>0.082625</td>\n",
       "      <td>0.0</td>\n",
       "      <td>0.0</td>\n",
       "      <td>0.000000</td>\n",
       "      <td>0.0</td>\n",
       "      <td>0.0</td>\n",
       "      <td>...</td>\n",
       "      <td>0.0</td>\n",
       "      <td>0.0</td>\n",
       "      <td>0.0</td>\n",
       "      <td>0.0</td>\n",
       "      <td>0.0</td>\n",
       "      <td>0.0</td>\n",
       "      <td>0.0</td>\n",
       "      <td>0.0</td>\n",
       "      <td>0.0</td>\n",
       "      <td>0.0</td>\n",
       "    </tr>\n",
       "  </tbody>\n",
       "</table>\n",
       "<p>3750 rows × 6000 columns</p>\n",
       "</div>"
      ],
      "text/plain": [
       "      abandon  abc  abduct  abil       abl  aboard  absenc   absolut  \\\n",
       "3518      0.0  0.0     0.0   0.0  0.000000     0.0     0.0  0.000000   \n",
       "217       0.0  0.0     0.0   0.0  0.000000     0.0     0.0  0.000000   \n",
       "1872      0.0  0.0     0.0   0.0  0.000000     0.0     0.0  0.000000   \n",
       "4264      0.0  0.0     0.0   0.0  0.000000     0.0     0.0  0.043916   \n",
       "3965      0.0  0.0     0.0   0.0  0.000000     0.0     0.0  0.109597   \n",
       "...       ...  ...     ...   ...       ...     ...     ...       ...   \n",
       "3058      0.0  0.0     0.0   0.0  0.000000     0.0     0.0  0.000000   \n",
       "429       0.0  0.0     0.0   0.0  0.000000     0.0     0.0  0.000000   \n",
       "1003      0.0  0.0     0.0   0.0  0.042622     0.0     0.0  0.000000   \n",
       "4422      0.0  0.0     0.0   0.0  0.000000     0.0     0.0  0.000000   \n",
       "701       0.0  0.0     0.0   0.0  0.082625     0.0     0.0  0.000000   \n",
       "\n",
       "      absolut love  absolut noth  ...  young kid  young man  young woman  \\\n",
       "3518           0.0           0.0  ...        0.0        0.0          0.0   \n",
       "217            0.0           0.0  ...        0.0        0.0          0.0   \n",
       "1872           0.0           0.0  ...        0.0        0.0          0.0   \n",
       "4264           0.0           0.0  ...        0.0        0.0          0.0   \n",
       "3965           0.0           0.0  ...        0.0        0.0          0.0   \n",
       "...            ...           ...  ...        ...        ...          ...   \n",
       "3058           0.0           0.0  ...        0.0        0.0          0.0   \n",
       "429            0.0           0.0  ...        0.0        0.0          0.0   \n",
       "1003           0.0           0.0  ...        0.0        0.0          0.0   \n",
       "4422           0.0           0.0  ...        0.0        0.0          0.0   \n",
       "701            0.0           0.0  ...        0.0        0.0          0.0   \n",
       "\n",
       "      younger  youngest  youth  youtub  zero  zombi  zone  \n",
       "3518      0.0       0.0    0.0     0.0   0.0    0.0   0.0  \n",
       "217       0.0       0.0    0.0     0.0   0.0    0.0   0.0  \n",
       "1872      0.0       0.0    0.0     0.0   0.0    0.0   0.0  \n",
       "4264      0.0       0.0    0.0     0.0   0.0    0.0   0.0  \n",
       "3965      0.0       0.0    0.0     0.0   0.0    0.0   0.0  \n",
       "...       ...       ...    ...     ...   ...    ...   ...  \n",
       "3058      0.0       0.0    0.0     0.0   0.0    0.0   0.0  \n",
       "429       0.0       0.0    0.0     0.0   0.0    0.0   0.0  \n",
       "1003      0.0       0.0    0.0     0.0   0.0    0.0   0.0  \n",
       "4422      0.0       0.0    0.0     0.0   0.0    0.0   0.0  \n",
       "701       0.0       0.0    0.0     0.0   0.0    0.0   0.0  \n",
       "\n",
       "[3750 rows x 6000 columns]"
      ]
     },
     "execution_count": 28,
     "metadata": {},
     "output_type": "execute_result"
    }
   ],
   "source": [
    "tfidf_df=pd.DataFrame(reviews_train_tfidf.toarray(),columns=tfidf_model.get_feature_names(),index=reviews_train.index)\n",
    "tfidf_df"
   ]
  },
  {
   "cell_type": "code",
   "execution_count": 29,
   "id": "528239dc",
   "metadata": {
    "execution": {
     "iopub.execute_input": "2023-08-04T11:46:31.729129Z",
     "iopub.status.busy": "2023-08-04T11:46:31.727932Z",
     "iopub.status.idle": "2023-08-04T11:46:31.751987Z",
     "shell.execute_reply": "2023-08-04T11:46:31.750888Z"
    },
    "papermill": {
     "duration": 0.072372,
     "end_time": "2023-08-04T11:46:31.754427",
     "exception": false,
     "start_time": "2023-08-04T11:46:31.682055",
     "status": "completed"
    },
    "tags": []
   },
   "outputs": [],
   "source": [
    "# Lets checkout the top features\n",
    "top_features=sorted(zip(tfidf_model.idf_,tfidf_model.get_feature_names()))\n",
    "top10=top_features[:10]"
   ]
  },
  {
   "cell_type": "code",
   "execution_count": 30,
   "id": "5a67b27b",
   "metadata": {
    "execution": {
     "iopub.execute_input": "2023-08-04T11:46:31.845294Z",
     "iopub.status.busy": "2023-08-04T11:46:31.844276Z",
     "iopub.status.idle": "2023-08-04T11:46:32.221457Z",
     "shell.execute_reply": "2023-08-04T11:46:32.219960Z"
    },
    "papermill": {
     "duration": 0.426401,
     "end_time": "2023-08-04T11:46:32.225170",
     "exception": false,
     "start_time": "2023-08-04T11:46:31.798769",
     "status": "completed"
    },
    "tags": []
   },
   "outputs": [
    {
     "data": {
      "image/png": "[encoded data removed]",
      "text/plain": [
       "<Figure size 1000x800 with 1 Axes>"
      ]
     },
     "metadata": {},
     "output_type": "display_data"
    }
   ],
   "source": [
    "from wordcloud import WordCloud\n",
    "plt.figure(figsize=(10,8))\n",
    "wc = WordCloud(background_color=\"black\",max_font_size=150, random_state=42)\n",
    "wc.generate(str(top10))\n",
    "plt.imshow(wc, interpolation='bilinear')\n",
    "plt.suptitle('Top 10 words', size=30, y=0.88,color=\"r\"); \n",
    "plt.axis(\"off\")\n",
    "plt.savefig(\"top10_words.png\")\n",
    "plt.show()"
   ]
  },
  {
   "cell_type": "markdown",
   "id": "7e0fbe75",
   "metadata": {
    "papermill": {
     "duration": 0.045366,
     "end_time": "2023-08-04T11:46:32.316814",
     "exception": false,
     "start_time": "2023-08-04T11:46:32.271448",
     "status": "completed"
    },
    "tags": []
   },
   "source": [
    "# Modeling"
   ]
  },
  {
   "cell_type": "code",
   "execution_count": 31,
   "id": "9c26ce6f",
   "metadata": {
    "execution": {
     "iopub.execute_input": "2023-08-04T11:46:32.410693Z",
     "iopub.status.busy": "2023-08-04T11:46:32.409680Z",
     "iopub.status.idle": "2023-08-04T11:46:32.987219Z",
     "shell.execute_reply": "2023-08-04T11:46:32.986106Z"
    },
    "papermill": {
     "duration": 0.626962,
     "end_time": "2023-08-04T11:46:32.989618",
     "exception": false,
     "start_time": "2023-08-04T11:46:32.362656",
     "status": "completed"
    },
    "tags": []
   },
   "outputs": [
    {
     "data": {
      "text/plain": [
       "1    1966\n",
       "0    1966\n",
       "Name: sentiment, dtype: int64"
      ]
     },
     "execution_count": 31,
     "metadata": {},
     "output_type": "execute_result"
    }
   ],
   "source": [
    "from imblearn.over_sampling import SMOTE\n",
    "# Resample the minority class. You can change the strategy to 'auto' if you are not sure.\n",
    "sm = SMOTE(sampling_strategy='auto', random_state=7)\n",
    "\n",
    "oversampled_trainX, oversampled_trainY = sm.fit_resample(reviews_train_tfidf,sentiment_train)\n",
    "oversampled_trainY.value_counts()"
   ]
  },
  {
   "cell_type": "markdown",
   "id": "031715aa",
   "metadata": {
    "papermill": {
     "duration": 0.045366,
     "end_time": "2023-08-04T11:46:33.080768",
     "exception": false,
     "start_time": "2023-08-04T11:46:33.035402",
     "status": "completed"
    },
    "tags": []
   },
   "source": [
    "## Support Vector Classifier"
   ]
  },
  {
   "cell_type": "code",
   "execution_count": 32,
   "id": "4f7accad",
   "metadata": {
    "execution": {
     "iopub.execute_input": "2023-08-04T11:46:33.174683Z",
     "iopub.status.busy": "2023-08-04T11:46:33.173539Z",
     "iopub.status.idle": "2023-08-04T11:46:41.827892Z",
     "shell.execute_reply": "2023-08-04T11:46:41.826691Z"
    },
    "papermill": {
     "duration": 8.70375,
     "end_time": "2023-08-04T11:46:41.830245",
     "exception": false,
     "start_time": "2023-08-04T11:46:33.126495",
     "status": "completed"
    },
    "tags": []
   },
   "outputs": [
    {
     "name": "stderr",
     "output_type": "stream",
     "text": [
      "/opt/conda/lib/python3.7/site-packages/sklearn/svm/_base.py:289: ConvergenceWarning: Solver terminated early (max_iter=1000).  Consider pre-processing your data with StandardScaler or MinMaxScaler.\n",
      "  ConvergenceWarning,\n"
     ]
    },
    {
     "data": {
      "text/plain": [
       "0.8623873141074726"
      ]
     },
     "execution_count": 32,
     "metadata": {},
     "output_type": "execute_result"
    }
   ],
   "source": [
    "svc_model=SVC(C=1,kernel='rbf', max_iter=1000)\n",
    "svc_model.fit(oversampled_trainX,oversampled_trainY)\n",
    "svc_predict=svc_model.predict(reviews_test_tfidf)\n",
    "svc_f1=f1_score(sentiment_test,svc_predict,average=\"weighted\")\n",
    "svc_f1"
   ]
  },
  {
   "cell_type": "code",
   "execution_count": 33,
   "id": "de4f7f59",
   "metadata": {
    "execution": {
     "iopub.execute_input": "2023-08-04T11:46:41.929744Z",
     "iopub.status.busy": "2023-08-04T11:46:41.928701Z",
     "iopub.status.idle": "2023-08-04T11:46:42.178512Z",
     "shell.execute_reply": "2023-08-04T11:46:42.177472Z"
    },
    "papermill": {
     "duration": 0.302327,
     "end_time": "2023-08-04T11:46:42.180993",
     "exception": false,
     "start_time": "2023-08-04T11:46:41.878666",
     "status": "completed"
    },
    "tags": []
   },
   "outputs": [
    {
     "data": {
      "image/png": "[encoded data removed]",
      "text/plain": [
       "<Figure size 640x480 with 2 Axes>"
      ]
     },
     "metadata": {},
     "output_type": "display_data"
    }
   ],
   "source": [
    "plot_confusion_matrix(sentiment_test,svc_predict,normalize=True)\n",
    "plt.title(\"SVC Confuison matrix\",size=18)\n",
    "plt.show()"
   ]
  },
  {
   "cell_type": "markdown",
   "id": "ee25b21b",
   "metadata": {
    "papermill": {
     "duration": 0.046782,
     "end_time": "2023-08-04T11:46:42.275873",
     "exception": false,
     "start_time": "2023-08-04T11:46:42.229091",
     "status": "completed"
    },
    "tags": []
   },
   "source": [
    "## Naive Bayes:"
   ]
  },
  {
   "cell_type": "code",
   "execution_count": 34,
   "id": "a13e0cfb",
   "metadata": {
    "execution": {
     "iopub.execute_input": "2023-08-04T11:46:42.371765Z",
     "iopub.status.busy": "2023-08-04T11:46:42.370652Z",
     "iopub.status.idle": "2023-08-04T11:46:42.696602Z",
     "shell.execute_reply": "2023-08-04T11:46:42.695296Z"
    },
    "papermill": {
     "duration": 0.377597,
     "end_time": "2023-08-04T11:46:42.699995",
     "exception": false,
     "start_time": "2023-08-04T11:46:42.322398",
     "status": "completed"
    },
    "tags": []
   },
   "outputs": [
    {
     "data": {
      "text/plain": [
       "0.8455510519651777"
      ]
     },
     "execution_count": 34,
     "metadata": {},
     "output_type": "execute_result"
    }
   ],
   "source": [
    "nb_params={\"alpha\":[10**i for i in range(-5,5)]}\n",
    "nb_clf=MultinomialNB()\n",
    "rndm_clf=RandomizedSearchCV(nb_clf,nb_params)\n",
    "rndm_clf.fit(oversampled_trainX,oversampled_trainY)\n",
    "nb_best_params=rndm_clf.best_params_\n",
    "\n",
    "nb_clf=MultinomialNB(**nb_best_params)\n",
    "nb_clf.fit(oversampled_trainX,oversampled_trainY)\n",
    "nb_predict=nb_clf.predict(reviews_test_tfidf)\n",
    "nb_f1=f1_score(sentiment_test,nb_predict,average=\"weighted\")\n",
    "nb_f1"
   ]
  },
  {
   "cell_type": "code",
   "execution_count": 35,
   "id": "1e0d1126",
   "metadata": {
    "execution": {
     "iopub.execute_input": "2023-08-04T11:46:42.798131Z",
     "iopub.status.busy": "2023-08-04T11:46:42.797532Z",
     "iopub.status.idle": "2023-08-04T11:46:43.079746Z",
     "shell.execute_reply": "2023-08-04T11:46:43.078640Z"
    },
    "papermill": {
     "duration": 0.333244,
     "end_time": "2023-08-04T11:46:43.082381",
     "exception": false,
     "start_time": "2023-08-04T11:46:42.749137",
     "status": "completed"
    },
    "tags": []
   },
   "outputs": [
    {
     "data": {
      "text/plain": [
       "Text(0.5, 1.0, 'Naive Bayes Confusion Matrix')"
      ]
     },
     "execution_count": 35,
     "metadata": {},
     "output_type": "execute_result"
    },
    {
     "data": {
      "image/png": "[encoded data removed]",
      "text/plain": [
       "<Figure size 640x480 with 2 Axes>"
      ]
     },
     "metadata": {},
     "output_type": "display_data"
    }
   ],
   "source": [
    "plot_confusion_matrix(sentiment_test,nb_predict,normalize=True,cmap=\"Reds\")\n",
    "plt.title(\"Naive Bayes Confusion Matrix\",size=15)"
   ]
  },
  {
   "cell_type": "markdown",
   "id": "3320e078",
   "metadata": {
    "papermill": {
     "duration": 0.048856,
     "end_time": "2023-08-04T11:46:43.178795",
     "exception": false,
     "start_time": "2023-08-04T11:46:43.129939",
     "status": "completed"
    },
    "tags": []
   },
   "source": [
    "## LSTM"
   ]
  },
  {
   "cell_type": "code",
   "execution_count": 36,
   "id": "2b257a79",
   "metadata": {
    "execution": {
     "iopub.execute_input": "2023-08-04T11:46:43.289939Z",
     "iopub.status.busy": "2023-08-04T11:46:43.288688Z",
     "iopub.status.idle": "2023-08-04T11:46:43.297746Z",
     "shell.execute_reply": "2023-08-04T11:46:43.296594Z"
    },
    "papermill": {
     "duration": 0.066961,
     "end_time": "2023-08-04T11:46:43.300381",
     "exception": false,
     "start_time": "2023-08-04T11:46:43.233420",
     "status": "completed"
    },
    "tags": []
   },
   "outputs": [],
   "source": [
    "from tensorflow.keras.models import Sequential,load_model\n",
    "from tensorflow.keras.layers import LSTM, Dense, Embedding, Dropout, Bidirectional, GlobalMaxPooling1D\n",
    "from tensorflow.keras.callbacks import EarlyStopping, ModelCheckpoint"
   ]
  },
  {
   "cell_type": "code",
   "execution_count": 37,
   "id": "c862ef34",
   "metadata": {
    "execution": {
     "iopub.execute_input": "2023-08-04T11:46:43.399203Z",
     "iopub.status.busy": "2023-08-04T11:46:43.398502Z",
     "iopub.status.idle": "2023-08-04T11:46:48.276101Z",
     "shell.execute_reply": "2023-08-04T11:46:48.275078Z"
    },
    "papermill": {
     "duration": 4.942018,
     "end_time": "2023-08-04T11:46:48.291689",
     "exception": false,
     "start_time": "2023-08-04T11:46:43.349671",
     "status": "completed"
    },
    "tags": []
   },
   "outputs": [
    {
     "name": "stdout",
     "output_type": "stream",
     "text": [
      "Model: \"sequential\"\n",
      "_________________________________________________________________\n",
      " Layer (type)                Output Shape              Param #   \n",
      "=================================================================\n",
      " embedding (Embedding)       (None, 100, 200)          4561600   \n",
      "                                                                 \n",
      " lstm (LSTM)                 (None, 100, 64)           67840     \n",
      "                                                                 \n",
      " global_max_pooling1d (Globa  (None, 64)               0         \n",
      " lMaxPooling1D)                                                  \n",
      "                                                                 \n",
      " dense (Dense)               (None, 32)                2080      \n",
      "                                                                 \n",
      " dropout (Dropout)           (None, 32)                0         \n",
      "                                                                 \n",
      " dense_1 (Dense)             (None, 1)                 33        \n",
      "                                                                 \n",
      "=================================================================\n",
      "Total params: 4,631,553\n",
      "Trainable params: 69,953\n",
      "Non-trainable params: 4,561,600\n",
      "_________________________________________________________________\n"
     ]
    }
   ],
   "source": [
    "model = Sequential()\n",
    "model.add(Embedding(input_dim = vocab_size, output_dim = 200,input_length=maxlen,trainable = False))\n",
    "model.add(LSTM(64,return_sequences=True,dropout=0.2, recurrent_dropout=0.4))\n",
    "model.add(GlobalMaxPooling1D())\n",
    "model.add(Dense(32,activation='relu'))\n",
    "model.add(Dropout(0.05))\n",
    "model.add(Dense(1,activation='sigmoid'))\n",
    "model.compile(loss='binary_crossentropy',optimizer='adam',metrics=['accuracy'])\n",
    "es = EarlyStopping(monitor='val_loss',mode='min',verbose=1,patience=3)\n",
    "mc = ModelCheckpoint('best_model.h5', monitor='val_accuracy', mode='max', save_best_only=True,verbose=1)\n",
    "model.summary()"
   ]
  },
  {
   "cell_type": "code",
   "execution_count": 38,
   "id": "ad2f2c96",
   "metadata": {
    "execution": {
     "iopub.execute_input": "2023-08-04T11:46:48.392676Z",
     "iopub.status.busy": "2023-08-04T11:46:48.392271Z",
     "iopub.status.idle": "2023-08-04T11:56:14.396174Z",
     "shell.execute_reply": "2023-08-04T11:56:14.394944Z"
    },
    "papermill": {
     "duration": 566.058676,
     "end_time": "2023-08-04T11:56:14.399505",
     "exception": false,
     "start_time": "2023-08-04T11:46:48.340829",
     "status": "completed"
    },
    "tags": []
   },
   "outputs": [
    {
     "name": "stdout",
     "output_type": "stream",
     "text": [
      "Epoch 1/45\n",
      "30/30 [==============================] - 17s 373ms/step - loss: 0.6913 - accuracy: 0.5296\n",
      "Epoch 2/45\n",
      "30/30 [==============================] - 11s 377ms/step - loss: 0.6830 - accuracy: 0.5499\n",
      "Epoch 3/45\n",
      "30/30 [==============================] - 12s 406ms/step - loss: 0.6495 - accuracy: 0.6344\n",
      "Epoch 4/45\n",
      "30/30 [==============================] - 11s 375ms/step - loss: 0.6265 - accuracy: 0.6645\n",
      "Epoch 5/45\n",
      "30/30 [==============================] - 11s 377ms/step - loss: 0.6165 - accuracy: 0.6741\n",
      "Epoch 6/45\n",
      "30/30 [==============================] - 12s 404ms/step - loss: 0.5914 - accuracy: 0.6893\n",
      "Epoch 7/45\n",
      "30/30 [==============================] - 12s 385ms/step - loss: 0.5774 - accuracy: 0.7075\n",
      "Epoch 8/45\n",
      "30/30 [==============================] - 12s 411ms/step - loss: 0.5724 - accuracy: 0.7080\n",
      "Epoch 9/45\n",
      "30/30 [==============================] - 11s 379ms/step - loss: 0.5554 - accuracy: 0.7259\n",
      "Epoch 10/45\n",
      "30/30 [==============================] - 11s 378ms/step - loss: 0.5402 - accuracy: 0.7336\n",
      "Epoch 11/45\n",
      "30/30 [==============================] - 12s 406ms/step - loss: 0.5345 - accuracy: 0.7312\n",
      "Epoch 12/45\n",
      "30/30 [==============================] - 11s 381ms/step - loss: 0.5265 - accuracy: 0.7381\n",
      "Epoch 13/45\n",
      "30/30 [==============================] - 11s 383ms/step - loss: 0.5236 - accuracy: 0.7397\n",
      "Epoch 14/45\n",
      "30/30 [==============================] - 12s 405ms/step - loss: 0.5147 - accuracy: 0.7432\n",
      "Epoch 15/45\n",
      "30/30 [==============================] - 11s 369ms/step - loss: 0.5119 - accuracy: 0.7491\n",
      "Epoch 16/45\n",
      "30/30 [==============================] - 12s 387ms/step - loss: 0.5011 - accuracy: 0.7560\n",
      "Epoch 17/45\n",
      "30/30 [==============================] - 12s 398ms/step - loss: 0.5043 - accuracy: 0.7581\n",
      "Epoch 18/45\n",
      "30/30 [==============================] - 11s 383ms/step - loss: 0.4912 - accuracy: 0.7643\n",
      "Epoch 19/45\n",
      "30/30 [==============================] - 12s 398ms/step - loss: 0.4742 - accuracy: 0.7773\n",
      "Epoch 20/45\n",
      "30/30 [==============================] - 11s 376ms/step - loss: 0.4770 - accuracy: 0.7733\n",
      "Epoch 21/45\n",
      "30/30 [==============================] - 11s 376ms/step - loss: 0.4572 - accuracy: 0.7835\n",
      "Epoch 22/45\n",
      "30/30 [==============================] - 12s 400ms/step - loss: 0.4483 - accuracy: 0.7933\n",
      "Epoch 23/45\n",
      "30/30 [==============================] - 11s 373ms/step - loss: 0.4352 - accuracy: 0.7973\n",
      "Epoch 24/45\n",
      "30/30 [==============================] - 11s 374ms/step - loss: 0.4342 - accuracy: 0.8061\n",
      "Epoch 25/45\n",
      "30/30 [==============================] - 12s 404ms/step - loss: 0.4158 - accuracy: 0.8053\n",
      "Epoch 26/45\n",
      "30/30 [==============================] - 12s 387ms/step - loss: 0.4149 - accuracy: 0.8107\n",
      "Epoch 27/45\n",
      "30/30 [==============================] - 11s 377ms/step - loss: 0.4025 - accuracy: 0.8229\n",
      "Epoch 28/45\n",
      "30/30 [==============================] - 12s 412ms/step - loss: 0.4070 - accuracy: 0.8147\n",
      "Epoch 29/45\n",
      "30/30 [==============================] - 11s 382ms/step - loss: 0.3871 - accuracy: 0.8325\n",
      "Epoch 30/45\n",
      "30/30 [==============================] - 12s 394ms/step - loss: 0.3763 - accuracy: 0.8333\n",
      "Epoch 31/45\n",
      "30/30 [==============================] - 12s 379ms/step - loss: 0.3760 - accuracy: 0.8315\n",
      "Epoch 32/45\n",
      "30/30 [==============================] - 11s 373ms/step - loss: 0.3601 - accuracy: 0.8432\n",
      "Epoch 33/45\n",
      "30/30 [==============================] - 12s 404ms/step - loss: 0.3545 - accuracy: 0.8429\n",
      "Epoch 34/45\n",
      "30/30 [==============================] - 12s 387ms/step - loss: 0.3478 - accuracy: 0.8584\n",
      "Epoch 35/45\n",
      "30/30 [==============================] - 11s 377ms/step - loss: 0.3382 - accuracy: 0.8608\n",
      "Epoch 36/45\n",
      "30/30 [==============================] - 12s 407ms/step - loss: 0.3347 - accuracy: 0.8576\n",
      "Epoch 37/45\n",
      "30/30 [==============================] - 11s 379ms/step - loss: 0.3257 - accuracy: 0.8632\n",
      "Epoch 38/45\n",
      "30/30 [==============================] - 11s 383ms/step - loss: 0.3140 - accuracy: 0.8640\n",
      "Epoch 39/45\n",
      "30/30 [==============================] - 12s 417ms/step - loss: 0.3045 - accuracy: 0.8749\n",
      "Epoch 40/45\n",
      "30/30 [==============================] - 11s 371ms/step - loss: 0.2936 - accuracy: 0.8749\n",
      "Epoch 41/45\n",
      "30/30 [==============================] - 12s 403ms/step - loss: 0.2859 - accuracy: 0.8832\n",
      "Epoch 42/45\n",
      "30/30 [==============================] - 11s 380ms/step - loss: 0.2786 - accuracy: 0.8888\n",
      "Epoch 43/45\n",
      "30/30 [==============================] - 11s 370ms/step - loss: 0.2759 - accuracy: 0.8891\n",
      "Epoch 44/45\n",
      "30/30 [==============================] - 12s 412ms/step - loss: 0.2580 - accuracy: 0.8965\n",
      "Epoch 45/45\n",
      "30/30 [==============================] - 11s 377ms/step - loss: 0.2562 - accuracy: 0.8976\n"
     ]
    }
   ],
   "source": [
    "history = model.fit(X_train,sentiment_train,batch_size=128,epochs=45,verbose=1,callbacks=[es,mc])"
   ]
  },
  {
   "cell_type": "code",
   "execution_count": 39,
   "id": "ccd3946d",
   "metadata": {
    "execution": {
     "iopub.execute_input": "2023-08-04T11:56:14.719957Z",
     "iopub.status.busy": "2023-08-04T11:56:14.718823Z",
     "iopub.status.idle": "2023-08-04T11:56:16.383344Z",
     "shell.execute_reply": "2023-08-04T11:56:16.382218Z"
    },
    "papermill": {
     "duration": 1.827961,
     "end_time": "2023-08-04T11:56:16.385907",
     "exception": false,
     "start_time": "2023-08-04T11:56:14.557946",
     "status": "completed"
    },
    "tags": []
   },
   "outputs": [
    {
     "name": "stdout",
     "output_type": "stream",
     "text": [
      "40/40 [==============================] - 1s 25ms/step - loss: 0.5002 - accuracy: 0.7720\n"
     ]
    }
   ],
   "source": [
    "score_lstm = model.evaluate(X_test,sentiment_test)"
   ]
  },
  {
   "cell_type": "markdown",
   "id": "361d7d9e",
   "metadata": {
    "papermill": {
     "duration": 0.160181,
     "end_time": "2023-08-04T11:56:16.707235",
     "exception": false,
     "start_time": "2023-08-04T11:56:16.547054",
     "status": "completed"
    },
    "tags": []
   },
   "source": [
    "## BI-LSTM"
   ]
  },
  {
   "cell_type": "code",
   "execution_count": 40,
   "id": "ef3007c6",
   "metadata": {
    "execution": {
     "iopub.execute_input": "2023-08-04T11:56:17.030880Z",
     "iopub.status.busy": "2023-08-04T11:56:17.029751Z",
     "iopub.status.idle": "2023-08-04T11:56:17.378968Z",
     "shell.execute_reply": "2023-08-04T11:56:17.378047Z"
    },
    "papermill": {
     "duration": 0.523068,
     "end_time": "2023-08-04T11:56:17.391329",
     "exception": false,
     "start_time": "2023-08-04T11:56:16.868261",
     "status": "completed"
    },
    "tags": []
   },
   "outputs": [
    {
     "name": "stdout",
     "output_type": "stream",
     "text": [
      "Model: \"sequential_1\"\n",
      "_________________________________________________________________\n",
      " Layer (type)                Output Shape              Param #   \n",
      "=================================================================\n",
      " embedding_1 (Embedding)     (None, 100, 200)          4561600   \n",
      "                                                                 \n",
      " bidirectional (Bidirectiona  (None, 100, 128)         135680    \n",
      " l)                                                              \n",
      "                                                                 \n",
      " global_max_pooling1d_1 (Glo  (None, 128)              0         \n",
      " balMaxPooling1D)                                                \n",
      "                                                                 \n",
      " dense_2 (Dense)             (None, 32)                4128      \n",
      "                                                                 \n",
      " dropout_1 (Dropout)         (None, 32)                0         \n",
      "                                                                 \n",
      " dense_3 (Dense)             (None, 1)                 33        \n",
      "                                                                 \n",
      "=================================================================\n",
      "Total params: 4,701,441\n",
      "Trainable params: 139,841\n",
      "Non-trainable params: 4,561,600\n",
      "_________________________________________________________________\n"
     ]
    }
   ],
   "source": [
    "model = Sequential()\n",
    "model.add(Embedding(input_dim = vocab_size, output_dim = 200,input_length=maxlen,trainable = False))\n",
    "model.add(Bidirectional(LSTM(64,return_sequences=True,dropout=0.2, recurrent_dropout=0.4)))\n",
    "model.add(GlobalMaxPooling1D())\n",
    "model.add(Dense(32,activation='relu'))\n",
    "model.add(Dropout(0.05))\n",
    "model.add(Dense(1,activation='sigmoid'))\n",
    "model.compile(loss='binary_crossentropy',optimizer='adam',metrics=['accuracy'])\n",
    "es = EarlyStopping(monitor='val_loss',mode='min',verbose=1,patience=3)\n",
    "mc = ModelCheckpoint('best_model.h5', monitor='val_accuracy', mode='max', save_best_only=True,verbose=1)\n",
    "model.summary()"
   ]
  },
  {
   "cell_type": "code",
   "execution_count": 41,
   "id": "4481f1d5",
   "metadata": {
    "execution": {
     "iopub.execute_input": "2023-08-04T11:56:17.720634Z",
     "iopub.status.busy": "2023-08-04T11:56:17.719572Z",
     "iopub.status.idle": "2023-08-04T12:09:44.956758Z",
     "shell.execute_reply": "2023-08-04T12:09:44.955469Z"
    },
    "papermill": {
     "duration": 807.406202,
     "end_time": "2023-08-04T12:09:44.960087",
     "exception": false,
     "start_time": "2023-08-04T11:56:17.553885",
     "status": "completed"
    },
    "tags": []
   },
   "outputs": [
    {
     "name": "stdout",
     "output_type": "stream",
     "text": [
      "Epoch 1/35\n",
      "30/30 [==============================] - 29s 756ms/step - loss: 0.6922 - accuracy: 0.5205\n",
      "Epoch 2/35\n",
      "30/30 [==============================] - 23s 772ms/step - loss: 0.6901 - accuracy: 0.5237\n",
      "Epoch 3/35\n",
      "30/30 [==============================] - 23s 770ms/step - loss: 0.6719 - accuracy: 0.5856\n",
      "Epoch 4/35\n",
      "30/30 [==============================] - 22s 743ms/step - loss: 0.6410 - accuracy: 0.6331\n",
      "Epoch 5/35\n",
      "30/30 [==============================] - 23s 766ms/step - loss: 0.6365 - accuracy: 0.6595\n",
      "Epoch 6/35\n",
      "30/30 [==============================] - 23s 759ms/step - loss: 0.6117 - accuracy: 0.6725\n",
      "Epoch 7/35\n",
      "30/30 [==============================] - 23s 755ms/step - loss: 0.5966 - accuracy: 0.6875\n",
      "Epoch 8/35\n",
      "30/30 [==============================] - 23s 763ms/step - loss: 0.5805 - accuracy: 0.7051\n",
      "Epoch 9/35\n",
      "30/30 [==============================] - 23s 769ms/step - loss: 0.5449 - accuracy: 0.7221\n",
      "Epoch 10/35\n",
      "30/30 [==============================] - 22s 747ms/step - loss: 0.5364 - accuracy: 0.7325\n",
      "Epoch 11/35\n",
      "30/30 [==============================] - 23s 736ms/step - loss: 0.5321 - accuracy: 0.7333\n",
      "Epoch 12/35\n",
      "30/30 [==============================] - 23s 763ms/step - loss: 0.5243 - accuracy: 0.7336\n",
      "Epoch 13/35\n",
      "30/30 [==============================] - 23s 753ms/step - loss: 0.5123 - accuracy: 0.7429\n",
      "Epoch 14/35\n",
      "30/30 [==============================] - 22s 743ms/step - loss: 0.5031 - accuracy: 0.7539\n",
      "Epoch 15/35\n",
      "30/30 [==============================] - 23s 769ms/step - loss: 0.4995 - accuracy: 0.7549\n",
      "Epoch 16/35\n",
      "30/30 [==============================] - 23s 762ms/step - loss: 0.4982 - accuracy: 0.7632\n",
      "Epoch 17/35\n",
      "30/30 [==============================] - 23s 751ms/step - loss: 0.4890 - accuracy: 0.7595\n",
      "Epoch 18/35\n",
      "30/30 [==============================] - 23s 770ms/step - loss: 0.4757 - accuracy: 0.7752\n",
      "Epoch 19/35\n",
      "30/30 [==============================] - 23s 768ms/step - loss: 0.4625 - accuracy: 0.7829\n",
      "Epoch 20/35\n",
      "30/30 [==============================] - 22s 748ms/step - loss: 0.4655 - accuracy: 0.7760\n",
      "Epoch 21/35\n",
      "30/30 [==============================] - 23s 748ms/step - loss: 0.4459 - accuracy: 0.7920\n",
      "Epoch 22/35\n",
      "30/30 [==============================] - 23s 766ms/step - loss: 0.4347 - accuracy: 0.7971\n",
      "Epoch 23/35\n",
      "30/30 [==============================] - 23s 783ms/step - loss: 0.4324 - accuracy: 0.7984\n",
      "Epoch 24/35\n",
      "30/30 [==============================] - 22s 726ms/step - loss: 0.4182 - accuracy: 0.8067\n",
      "Epoch 25/35\n",
      "30/30 [==============================] - 23s 771ms/step - loss: 0.4043 - accuracy: 0.8149\n",
      "Epoch 26/35\n",
      "30/30 [==============================] - 23s 756ms/step - loss: 0.3909 - accuracy: 0.8269\n",
      "Epoch 27/35\n",
      "30/30 [==============================] - 23s 768ms/step - loss: 0.3819 - accuracy: 0.8309\n",
      "Epoch 28/35\n",
      "30/30 [==============================] - 22s 736ms/step - loss: 0.3688 - accuracy: 0.8389\n",
      "Epoch 29/35\n",
      "30/30 [==============================] - 23s 772ms/step - loss: 0.3609 - accuracy: 0.8376\n",
      "Epoch 30/35\n",
      "30/30 [==============================] - 23s 766ms/step - loss: 0.3510 - accuracy: 0.8517\n",
      "Epoch 31/35\n",
      "30/30 [==============================] - 22s 737ms/step - loss: 0.3439 - accuracy: 0.8555\n",
      "Epoch 32/35\n",
      "30/30 [==============================] - 23s 763ms/step - loss: 0.3195 - accuracy: 0.8645\n",
      "Epoch 33/35\n",
      "30/30 [==============================] - 23s 780ms/step - loss: 0.3009 - accuracy: 0.8781\n",
      "Epoch 34/35\n",
      "30/30 [==============================] - 23s 775ms/step - loss: 0.2876 - accuracy: 0.8808\n",
      "Epoch 35/35\n",
      "30/30 [==============================] - 22s 739ms/step - loss: 0.2727 - accuracy: 0.8880\n"
     ]
    }
   ],
   "source": [
    "history = model.fit(X_train,sentiment_train,batch_size=128,epochs=35,verbose=1,callbacks=[es,mc])"
   ]
  },
  {
   "cell_type": "code",
   "execution_count": 42,
   "id": "865fc207",
   "metadata": {
    "execution": {
     "iopub.execute_input": "2023-08-04T12:09:45.466889Z",
     "iopub.status.busy": "2023-08-04T12:09:45.465735Z",
     "iopub.status.idle": "2023-08-04T12:09:48.529317Z",
     "shell.execute_reply": "2023-08-04T12:09:48.528274Z"
    },
    "papermill": {
     "duration": 3.322255,
     "end_time": "2023-08-04T12:09:48.532455",
     "exception": false,
     "start_time": "2023-08-04T12:09:45.210200",
     "status": "completed"
    },
    "tags": []
   },
   "outputs": [
    {
     "name": "stdout",
     "output_type": "stream",
     "text": [
      "40/40 [==============================] - 3s 63ms/step - loss: 0.4831 - accuracy: 0.7576\n"
     ]
    }
   ],
   "source": [
    "score_bilstm = model.evaluate(X_test,sentiment_test)"
   ]
  },
  {
   "cell_type": "code",
   "execution_count": 43,
   "id": "f9fdcd79",
   "metadata": {
    "execution": {
     "iopub.execute_input": "2023-08-04T12:09:49.282653Z",
     "iopub.status.busy": "2023-08-04T12:09:49.282235Z",
     "iopub.status.idle": "2023-08-04T12:09:49.317348Z",
     "shell.execute_reply": "2023-08-04T12:09:49.316279Z"
    },
    "papermill": {
     "duration": 0.402008,
     "end_time": "2023-08-04T12:09:49.320059",
     "exception": false,
     "start_time": "2023-08-04T12:09:48.918051",
     "status": "completed"
    },
    "tags": []
   },
   "outputs": [],
   "source": [
    "from sklearn.linear_model import SGDClassifier\n",
    "clf= SGDClassifier(loss='hinge', penalty='l2', alpha=0.001, l1_ratio=0.15, max_iter=1000, tol=0.001, learning_rate='optimal')\n",
    "clf.fit(oversampled_trainX,oversampled_trainY)\n",
    "y_pred = clf.predict(reviews_test_tfidf)"
   ]
  },
  {
   "cell_type": "code",
   "execution_count": 44,
   "id": "6b5a09c6",
   "metadata": {
    "execution": {
     "iopub.execute_input": "2023-08-04T12:09:49.825062Z",
     "iopub.status.busy": "2023-08-04T12:09:49.823900Z",
     "iopub.status.idle": "2023-08-04T12:09:49.831439Z",
     "shell.execute_reply": "2023-08-04T12:09:49.830167Z"
    },
    "papermill": {
     "duration": 0.264783,
     "end_time": "2023-08-04T12:09:49.835358",
     "exception": false,
     "start_time": "2023-08-04T12:09:49.570575",
     "status": "completed"
    },
    "tags": []
   },
   "outputs": [
    {
     "name": "stdout",
     "output_type": "stream",
     "text": [
      "Accuracy: 0.8664\n"
     ]
    }
   ],
   "source": [
    "from sklearn import metrics\n",
    "print(\"Accuracy:\",metrics.accuracy_score(sentiment_test, y_pred))"
   ]
  }
 ],
 "metadata": {
  "kernelspec": {
   "display_name": "Python 3",
   "language": "python",
   "name": "python3"
  },
  "language_info": {
   "codemirror_mode": {
    "name": "ipython",
    "version": 3
   },
   "file_extension": ".py",
   "mimetype": "text/x-python",
   "name": "python",
   "nbconvert_exporter": "python",
   "pygments_lexer": "ipython3",
   "version": "3.7.12"
  },
  "papermill": {
   "default_parameters": {},
   "duration": 1512.962376,
   "end_time": "2023-08-04T12:09:53.632520",
   "environment_variables": {},
   "exception": null,
   "input_path": "__notebook__.ipynb",
   "output_path": "__notebook__.ipynb",
   "parameters": {},
   "start_time": "2023-08-04T11:44:40.670144",
   "version": "2.4.0"
  }
 },
 "nbformat": 4,
 "nbformat_minor": 5
}
